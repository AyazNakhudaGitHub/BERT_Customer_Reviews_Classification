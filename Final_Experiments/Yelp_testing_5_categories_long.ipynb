{
  "cells": [
    {
      "cell_type": "markdown",
      "metadata": {
        "id": "view-in-github",
        "colab_type": "text"
      },
      "source": [
        "<a href=\"https://colab.research.google.com/github/AyazNakhudaGitHub/BERT_Customer_Reviews_Classification/blob/main/Yelp_testing_5_categories_long.ipynb\" target=\"_parent\"><img src=\"https://colab.research.google.com/assets/colab-badge.svg\" alt=\"Open In Colab\"/></a>"
      ]
    },
    {
      "cell_type": "markdown",
      "source": [
        "# **Yelp Data Testing, 5 Categories, Long Review Texts**"
      ],
      "metadata": {
        "id": "ZaUEvBg0wWcb"
      }
    },
    {
      "cell_type": "markdown",
      "source": [
        "In this notebook, we test the model which utilized the long data that was grouped into 5 categories. The data used for testing is the Yelp dataset provided. The model has never seen this dataset before."
      ],
      "metadata": {
        "id": "BFeQWwKlwVZP"
      }
    },
    {
      "cell_type": "code",
      "execution_count": null,
      "metadata": {
        "colab": {
          "base_uri": "https://localhost:8080/"
        },
        "id": "new6ZjA5_IRx",
        "outputId": "1cd3d288-efe0-49e8-9b1c-90f6a92b858d"
      },
      "outputs": [
        {
          "name": "stdout",
          "output_type": "stream",
          "text": [
            "\u001b[K     |████████████████████████████████| 1.1 MB 8.4 MB/s \n",
            "\u001b[K     |████████████████████████████████| 596 kB 48.2 MB/s \n",
            "\u001b[K     |████████████████████████████████| 1.2 MB 62.1 MB/s \n",
            "\u001b[K     |████████████████████████████████| 99 kB 11.9 MB/s \n",
            "\u001b[K     |████████████████████████████████| 43 kB 2.2 MB/s \n",
            "\u001b[K     |████████████████████████████████| 1.1 MB 55.0 MB/s \n",
            "\u001b[K     |████████████████████████████████| 213 kB 96.2 MB/s \n",
            "\u001b[K     |████████████████████████████████| 47.6 MB 1.2 MB/s \n",
            "\u001b[K     |████████████████████████████████| 352 kB 66.3 MB/s \n",
            "\u001b[?25h  Building wheel for py-cpuinfo (setup.py) ... \u001b[?25l\u001b[?25hdone\n",
            "  Building wheel for seqeval (setup.py) ... \u001b[?25l\u001b[?25hdone\n"
          ]
        }
      ],
      "source": [
        "!pip install -q tf-models-official==2.4.0"
      ]
    },
    {
      "cell_type": "code",
      "execution_count": null,
      "metadata": {
        "colab": {
          "base_uri": "https://localhost:8080/"
        },
        "id": "Rc-Q9WfK_Gip",
        "outputId": "cd79dd0b-943d-4b08-fc25-d1b9b08300bf"
      },
      "outputs": [
        {
          "name": "stdout",
          "output_type": "stream",
          "text": [
            "\u001b[K     |████████████████████████████████| 4.9 MB 9.8 MB/s \n",
            "\u001b[?25h"
          ]
        }
      ],
      "source": [
        "!pip install -q -U tensorflow-text"
      ]
    },
    {
      "cell_type": "code",
      "execution_count": null,
      "metadata": {
        "id": "atVK8gvH_FDY"
      },
      "outputs": [],
      "source": [
        "import os\n",
        "import urllib, json\n",
        "\n",
        "import numpy as np\n",
        "import pandas as pd\n",
        "\n",
        "import tensorflow as tf\n",
        "import tensorflow_hub as hub\n",
        "import seaborn as sns\n",
        "from tensorflow.keras.utils import to_categorical\n",
        "\n",
        "import official.nlp.bert.bert_models\n",
        "import official.nlp.bert.configs\n",
        "import official.nlp.bert.run_classifier\n",
        "import official.nlp.bert.tokenization as tokenization\n",
        "\n",
        "from official.modeling import tf_utils\n",
        "from official import nlp\n",
        "from official.nlp import bert\n",
        "\n",
        "from sklearn.model_selection import train_test_split\n",
        "from sklearn.preprocessing import LabelEncoder\n",
        "\n",
        "import matplotlib.pyplot as plt"
      ]
    },
    {
      "cell_type": "code",
      "execution_count": null,
      "metadata": {
        "colab": {
          "base_uri": "https://localhost:8080/"
        },
        "id": "qOntoFCo_RZ6",
        "outputId": "c866dc7c-2c4d-40ff-a3fa-7746d53c9de8"
      },
      "outputs": [
        {
          "data": {
            "text/plain": [
              "[name: \"/device:CPU:0\"\n",
              " device_type: \"CPU\"\n",
              " memory_limit: 268435456\n",
              " locality {\n",
              " }\n",
              " incarnation: 14103152297645451176\n",
              " xla_global_id: -1, name: \"/device:GPU:0\"\n",
              " device_type: \"GPU\"\n",
              " memory_limit: 16154099712\n",
              " locality {\n",
              "   bus_id: 1\n",
              "   links {\n",
              "   }\n",
              " }\n",
              " incarnation: 13362404179809031316\n",
              " physical_device_desc: \"device: 0, name: Tesla P100-PCIE-16GB, pci bus id: 0000:00:04.0, compute capability: 6.0\"\n",
              " xla_global_id: 416903419]"
            ]
          },
          "execution_count": 4,
          "metadata": {},
          "output_type": "execute_result"
        }
      ],
      "source": [
        "from tensorflow.python.client import device_lib\n",
        "device_lib.list_local_devices()"
      ]
    },
    {
      "cell_type": "code",
      "execution_count": null,
      "metadata": {
        "colab": {
          "base_uri": "https://localhost:8080/"
        },
        "id": "P5EolVlE_Vu1",
        "outputId": "9fabe043-19a9-4aee-d23f-32c6addb7517"
      },
      "outputs": [
        {
          "name": "stdout",
          "output_type": "stream",
          "text": [
            "Mounted at /content/drive\n"
          ]
        }
      ],
      "source": [
        "from google.colab import drive\n",
        "drive.mount('/content/drive')"
      ]
    },
    {
      "cell_type": "code",
      "execution_count": null,
      "metadata": {
        "id": "eDzq6zz13RCT"
      },
      "outputs": [],
      "source": [
        "yelp_data = pd.read_pickle(\"small_yelp\")"
      ]
    },
    {
      "cell_type": "markdown",
      "source": [
        "Below we select an equal number of instances from each category."
      ],
      "metadata": {
        "id": "uN8Tc2H7wpTb"
      }
    },
    {
      "cell_type": "code",
      "execution_count": null,
      "metadata": {
        "colab": {
          "base_uri": "https://localhost:8080/",
          "height": 423
        },
        "id": "PfrqGS9l3Drm",
        "outputId": "205763c9-c977-43d8-be2d-a6d6992de3c4"
      },
      "outputs": [
        {
          "data": {
            "image/png": "[encoded data removed]",
            "text/plain": [
              "<Figure size 864x576 with 2 Axes>"
            ]
          },
          "metadata": {
            "needs_background": "light"
          },
          "output_type": "display_data"
        }
      ],
      "source": [
        "import seaborn as sns\n",
        "import matplotlib.ticker as ticker\n",
        "plt.figure(figsize=(12,8))\n",
        "ax = sns.countplot(x=\"stars\", data=yelp_data, order=[1,2,3,4,5])\n",
        "plt.title('Distribution of Ratings Given')\n",
        "plt.xlabel('Ratings Categories')\n",
        "ncount = len(yelp_data)\n",
        "# Make twin axis\n",
        "ax2=ax.twinx()\n",
        "\n",
        "# Switch so count axis is on right, frequency on left\n",
        "ax2.yaxis.tick_left()\n",
        "ax.yaxis.tick_right()\n",
        "\n",
        "# Also switch the labels over\n",
        "ax.yaxis.set_label_position('right')\n",
        "ax2.yaxis.set_label_position('left')\n",
        "\n",
        "ax2.set_ylabel('Frequency [%]')\n",
        "\n",
        "for p in ax.patches:\n",
        "    x=p.get_bbox().get_points()[:,0]\n",
        "    y=p.get_bbox().get_points()[1,1]\n",
        "    ax.annotate('{:.1f}%'.format(100.*y/ncount), (x.mean(), y),\n",
        "            ha='center', va='bottom') # set the alignment of the text\n",
        "\n",
        "# Use a LinearLocator to ensure the correct number of ticks\n",
        "ax.yaxis.set_major_locator(ticker.LinearLocator(11))\n",
        "\n",
        "# Fix the frequency range to 0-100\n",
        "ax2.set_ylim(0,100)\n",
        "ax.set_ylim(0,ncount)\n",
        "\n",
        "# And use a MultipleLocator to ensure a tick spacing of 10\n",
        "ax2.yaxis.set_major_locator(ticker.MultipleLocator(10))\n",
        "\n",
        "# Need to turn the grid on ax2 off, otherwise the gridlines end up on top of the bars\n",
        "ax2.grid(None)"
      ]
    },
    {
      "cell_type": "code",
      "execution_count": null,
      "metadata": {
        "colab": {
          "base_uri": "https://localhost:8080/"
        },
        "id": "8FrVNB2A_puz",
        "outputId": "6a7d4583-c6ec-423c-f2a0-428235af58dd"
      },
      "outputs": [
        {
          "name": "stdout",
          "output_type": "stream",
          "text": [
            "<class 'pandas.core.frame.DataFrame'>\n",
            "Int64Index: 250000 entries, 550897 to 2950589\n",
            "Data columns (total 3 columns):\n",
            " #   Column  Non-Null Count   Dtype \n",
            "---  ------  --------------   ----- \n",
            " 0   stars   250000 non-null  int64 \n",
            " 1   text    250000 non-null  object\n",
            " 2   useful  250000 non-null  int64 \n",
            "dtypes: int64(2), object(1)\n",
            "memory usage: 17.6+ MB\n"
          ]
        }
      ],
      "source": [
        "yelp_data.info()"
      ]
    },
    {
      "cell_type": "code",
      "execution_count": null,
      "metadata": {
        "colab": {
          "base_uri": "https://localhost:8080/",
          "height": 962
        },
        "id": "Hn6h6Hiu_xd6",
        "outputId": "e72a21a9-c982-4d00-ddd6-9ecc3b01fb84"
      },
      "outputs": [
        {
          "data": {
            "text/html": [
              "<div>\n",
              "<style scoped>\n",
              "    .dataframe tbody tr th:only-of-type {\n",
              "        vertical-align: middle;\n",
              "    }\n",
              "\n",
              "    .dataframe tbody tr th {\n",
              "        vertical-align: top;\n",
              "    }\n",
              "\n",
              "    .dataframe thead th {\n",
              "        text-align: right;\n",
              "    }\n",
              "</style>\n",
              "<table border=\"1\" class=\"dataframe\">\n",
              "  <thead>\n",
              "    <tr style=\"text-align: right;\">\n",
              "      <th></th>\n",
              "      <th>stars</th>\n",
              "      <th>text</th>\n",
              "      <th>useful</th>\n",
              "    </tr>\n",
              "  </thead>\n",
              "  <tbody>\n",
              "    <tr>\n",
              "      <th>550897</th>\n",
              "      <td>1</td>\n",
              "      <td>I went to this crummy den of rat turds on a bl...</td>\n",
              "      <td>1</td>\n",
              "    </tr>\n",
              "    <tr>\n",
              "      <th>515660</th>\n",
              "      <td>1</td>\n",
              "      <td>This body shop is the worst.  I would never ta...</td>\n",
              "      <td>0</td>\n",
              "    </tr>\n",
              "    <tr>\n",
              "      <th>539261</th>\n",
              "      <td>1</td>\n",
              "      <td>I had one plate and left most of it on there. ...</td>\n",
              "      <td>3</td>\n",
              "    </tr>\n",
              "    <tr>\n",
              "      <th>2496804</th>\n",
              "      <td>1</td>\n",
              "      <td>I'm disappointed that I didn't go with lil Cae...</td>\n",
              "      <td>1</td>\n",
              "    </tr>\n",
              "    <tr>\n",
              "      <th>4248315</th>\n",
              "      <td>1</td>\n",
              "      <td>Forget the somewhat manufactured-looking decen...</td>\n",
              "      <td>3</td>\n",
              "    </tr>\n",
              "    <tr>\n",
              "      <th>3129230</th>\n",
              "      <td>1</td>\n",
              "      <td>Customer service is horrible. Did not know thi...</td>\n",
              "      <td>0</td>\n",
              "    </tr>\n",
              "    <tr>\n",
              "      <th>614763</th>\n",
              "      <td>1</td>\n",
              "      <td>Bof - le pizza average et les pâtes - plate du...</td>\n",
              "      <td>1</td>\n",
              "    </tr>\n",
              "    <tr>\n",
              "      <th>828025</th>\n",
              "      <td>1</td>\n",
              "      <td>I really was hoping this was a great restauran...</td>\n",
              "      <td>0</td>\n",
              "    </tr>\n",
              "    <tr>\n",
              "      <th>1750500</th>\n",
              "      <td>1</td>\n",
              "      <td>Horrible, trash , bad reception ! Bad attitude...</td>\n",
              "      <td>0</td>\n",
              "    </tr>\n",
              "    <tr>\n",
              "      <th>172812</th>\n",
              "      <td>1</td>\n",
              "      <td>my bad, i wasted my time and breath here AGAIN...</td>\n",
              "      <td>1</td>\n",
              "    </tr>\n",
              "    <tr>\n",
              "      <th>3964105</th>\n",
              "      <td>1</td>\n",
              "      <td>I visited this restaurant with my boyfriend wh...</td>\n",
              "      <td>0</td>\n",
              "    </tr>\n",
              "    <tr>\n",
              "      <th>808498</th>\n",
              "      <td>1</td>\n",
              "      <td>Waited 20 minutes at the bakery for service. C...</td>\n",
              "      <td>0</td>\n",
              "    </tr>\n",
              "    <tr>\n",
              "      <th>934825</th>\n",
              "      <td>1</td>\n",
              "      <td>Sunrise coffee,\\n\\nI visited for the first tim...</td>\n",
              "      <td>4</td>\n",
              "    </tr>\n",
              "    <tr>\n",
              "      <th>4085298</th>\n",
              "      <td>1</td>\n",
              "      <td>Raw mushrooms and raw jalapeño slices. Looks l...</td>\n",
              "      <td>0</td>\n",
              "    </tr>\n",
              "    <tr>\n",
              "      <th>3385995</th>\n",
              "      <td>1</td>\n",
              "      <td>I'm posting this at 7:45pm on Friday. I was he...</td>\n",
              "      <td>0</td>\n",
              "    </tr>\n",
              "    <tr>\n",
              "      <th>1229081</th>\n",
              "      <td>1</td>\n",
              "      <td>Went to Carl's Jr again today, it will be the ...</td>\n",
              "      <td>0</td>\n",
              "    </tr>\n",
              "    <tr>\n",
              "      <th>4501438</th>\n",
              "      <td>1</td>\n",
              "      <td>I made an appointment for a ride to the airpor...</td>\n",
              "      <td>0</td>\n",
              "    </tr>\n",
              "    <tr>\n",
              "      <th>484400</th>\n",
              "      <td>1</td>\n",
              "      <td>This restaurant was not the greatest; meals we...</td>\n",
              "      <td>0</td>\n",
              "    </tr>\n",
              "    <tr>\n",
              "      <th>478317</th>\n",
              "      <td>1</td>\n",
              "      <td>Oh where do I start?  Believe all of the revie...</td>\n",
              "      <td>0</td>\n",
              "    </tr>\n",
              "    <tr>\n",
              "      <th>2135992</th>\n",
              "      <td>1</td>\n",
              "      <td>I came into drop my jeep off prior to my son's...</td>\n",
              "      <td>2</td>\n",
              "    </tr>\n",
              "    <tr>\n",
              "      <th>791952</th>\n",
              "      <td>1</td>\n",
              "      <td>A very short review.  When I go to the frozen ...</td>\n",
              "      <td>0</td>\n",
              "    </tr>\n",
              "    <tr>\n",
              "      <th>4341203</th>\n",
              "      <td>1</td>\n",
              "      <td>Absolutely the worst dry cleaner in Pittsburgh...</td>\n",
              "      <td>1</td>\n",
              "    </tr>\n",
              "    <tr>\n",
              "      <th>3100062</th>\n",
              "      <td>1</td>\n",
              "      <td>While getting our food, the manager was really...</td>\n",
              "      <td>0</td>\n",
              "    </tr>\n",
              "    <tr>\n",
              "      <th>2015576</th>\n",
              "      <td>1</td>\n",
              "      <td>I have been trying to think of a word that can...</td>\n",
              "      <td>5</td>\n",
              "    </tr>\n",
              "    <tr>\n",
              "      <th>2622935</th>\n",
              "      <td>1</td>\n",
              "      <td>Very disappointed this place. I ordered a to g...</td>\n",
              "      <td>0</td>\n",
              "    </tr>\n",
              "    <tr>\n",
              "      <th>5093001</th>\n",
              "      <td>1</td>\n",
              "      <td>Food is gross! I even gave them the benefit an...</td>\n",
              "      <td>1</td>\n",
              "    </tr>\n",
              "    <tr>\n",
              "      <th>1038768</th>\n",
              "      <td>1</td>\n",
              "      <td>Completely disappointed after giving them a se...</td>\n",
              "      <td>2</td>\n",
              "    </tr>\n",
              "    <tr>\n",
              "      <th>4135890</th>\n",
              "      <td>1</td>\n",
              "      <td>HORRIBLE CUSTOMER SERVICE. I'm actually shocke...</td>\n",
              "      <td>0</td>\n",
              "    </tr>\n",
              "    <tr>\n",
              "      <th>675333</th>\n",
              "      <td>1</td>\n",
              "      <td>I would describe the patrons as scum and the s...</td>\n",
              "      <td>0</td>\n",
              "    </tr>\n",
              "    <tr>\n",
              "      <th>4152611</th>\n",
              "      <td>1</td>\n",
              "      <td>One of the worse places for Indian food. Manag...</td>\n",
              "      <td>2</td>\n",
              "    </tr>\n",
              "  </tbody>\n",
              "</table>\n",
              "</div>"
            ],
            "text/plain": [
              "         stars                                               text  useful\n",
              "550897       1  I went to this crummy den of rat turds on a bl...       1\n",
              "515660       1  This body shop is the worst.  I would never ta...       0\n",
              "539261       1  I had one plate and left most of it on there. ...       3\n",
              "2496804      1  I'm disappointed that I didn't go with lil Cae...       1\n",
              "4248315      1  Forget the somewhat manufactured-looking decen...       3\n",
              "3129230      1  Customer service is horrible. Did not know thi...       0\n",
              "614763       1  Bof - le pizza average et les pâtes - plate du...       1\n",
              "828025       1  I really was hoping this was a great restauran...       0\n",
              "1750500      1  Horrible, trash , bad reception ! Bad attitude...       0\n",
              "172812       1  my bad, i wasted my time and breath here AGAIN...       1\n",
              "3964105      1  I visited this restaurant with my boyfriend wh...       0\n",
              "808498       1  Waited 20 minutes at the bakery for service. C...       0\n",
              "934825       1  Sunrise coffee,\\n\\nI visited for the first tim...       4\n",
              "4085298      1  Raw mushrooms and raw jalapeño slices. Looks l...       0\n",
              "3385995      1  I'm posting this at 7:45pm on Friday. I was he...       0\n",
              "1229081      1  Went to Carl's Jr again today, it will be the ...       0\n",
              "4501438      1  I made an appointment for a ride to the airpor...       0\n",
              "484400       1  This restaurant was not the greatest; meals we...       0\n",
              "478317       1  Oh where do I start?  Believe all of the revie...       0\n",
              "2135992      1  I came into drop my jeep off prior to my son's...       2\n",
              "791952       1  A very short review.  When I go to the frozen ...       0\n",
              "4341203      1  Absolutely the worst dry cleaner in Pittsburgh...       1\n",
              "3100062      1  While getting our food, the manager was really...       0\n",
              "2015576      1  I have been trying to think of a word that can...       5\n",
              "2622935      1  Very disappointed this place. I ordered a to g...       0\n",
              "5093001      1  Food is gross! I even gave them the benefit an...       1\n",
              "1038768      1  Completely disappointed after giving them a se...       2\n",
              "4135890      1  HORRIBLE CUSTOMER SERVICE. I'm actually shocke...       0\n",
              "675333       1  I would describe the patrons as scum and the s...       0\n",
              "4152611      1  One of the worse places for Indian food. Manag...       2"
            ]
          },
          "execution_count": 10,
          "metadata": {},
          "output_type": "execute_result"
        }
      ],
      "source": [
        "yelp_data.head(30)"
      ]
    },
    {
      "cell_type": "code",
      "execution_count": null,
      "metadata": {
        "id": "hLLcq7kO__oM"
      },
      "outputs": [],
      "source": [
        "from sklearn.utils import shuffle # shuffling the new data set\n",
        "yelp_data = shuffle(yelp_data)\n",
        "yelp_data.reset_index(inplace=True, drop=True)"
      ]
    },
    {
      "cell_type": "code",
      "execution_count": null,
      "metadata": {
        "colab": {
          "base_uri": "https://localhost:8080/",
          "height": 962
        },
        "id": "3-6r0UHwApyM",
        "outputId": "b476bf8f-ddb4-4f22-c6fc-477667de859a"
      },
      "outputs": [
        {
          "data": {
            "text/html": [
              "<div>\n",
              "<style scoped>\n",
              "    .dataframe tbody tr th:only-of-type {\n",
              "        vertical-align: middle;\n",
              "    }\n",
              "\n",
              "    .dataframe tbody tr th {\n",
              "        vertical-align: top;\n",
              "    }\n",
              "\n",
              "    .dataframe thead th {\n",
              "        text-align: right;\n",
              "    }\n",
              "</style>\n",
              "<table border=\"1\" class=\"dataframe\">\n",
              "  <thead>\n",
              "    <tr style=\"text-align: right;\">\n",
              "      <th></th>\n",
              "      <th>stars</th>\n",
              "      <th>text</th>\n",
              "      <th>useful</th>\n",
              "    </tr>\n",
              "  </thead>\n",
              "  <tbody>\n",
              "    <tr>\n",
              "      <th>0</th>\n",
              "      <td>4</td>\n",
              "      <td>The first time I went I was impressed with the...</td>\n",
              "      <td>0</td>\n",
              "    </tr>\n",
              "    <tr>\n",
              "      <th>1</th>\n",
              "      <td>2</td>\n",
              "      <td>I ordered the pork bone soup. First all the si...</td>\n",
              "      <td>0</td>\n",
              "    </tr>\n",
              "    <tr>\n",
              "      <th>2</th>\n",
              "      <td>4</td>\n",
              "      <td>Pita Jungle is among the tastiest of the tasty...</td>\n",
              "      <td>0</td>\n",
              "    </tr>\n",
              "    <tr>\n",
              "      <th>3</th>\n",
              "      <td>3</td>\n",
              "      <td>Nice decor but seating is very intimate.  Prof...</td>\n",
              "      <td>0</td>\n",
              "    </tr>\n",
              "    <tr>\n",
              "      <th>4</th>\n",
              "      <td>4</td>\n",
              "      <td>I got the Mongolian beef it was very good only...</td>\n",
              "      <td>0</td>\n",
              "    </tr>\n",
              "    <tr>\n",
              "      <th>5</th>\n",
              "      <td>5</td>\n",
              "      <td>excellent, excellent sandwiches.  almost too m...</td>\n",
              "      <td>1</td>\n",
              "    </tr>\n",
              "    <tr>\n",
              "      <th>6</th>\n",
              "      <td>2</td>\n",
              "      <td>Was excited to see a cafe Rio open in this loc...</td>\n",
              "      <td>4</td>\n",
              "    </tr>\n",
              "    <tr>\n",
              "      <th>7</th>\n",
              "      <td>5</td>\n",
              "      <td>Awesome. Awesome. Awesome.  This place rocks. ...</td>\n",
              "      <td>0</td>\n",
              "    </tr>\n",
              "    <tr>\n",
              "      <th>8</th>\n",
              "      <td>4</td>\n",
              "      <td>Nice stage and fun for small town bands. The g...</td>\n",
              "      <td>2</td>\n",
              "    </tr>\n",
              "    <tr>\n",
              "      <th>9</th>\n",
              "      <td>3</td>\n",
              "      <td>I try my best to keep away from fast food and ...</td>\n",
              "      <td>0</td>\n",
              "    </tr>\n",
              "    <tr>\n",
              "      <th>10</th>\n",
              "      <td>2</td>\n",
              "      <td>For the most part, my coffee gets to me in the...</td>\n",
              "      <td>0</td>\n",
              "    </tr>\n",
              "    <tr>\n",
              "      <th>11</th>\n",
              "      <td>2</td>\n",
              "      <td>You don't go into a Chinese buffet with high e...</td>\n",
              "      <td>8</td>\n",
              "    </tr>\n",
              "    <tr>\n",
              "      <th>12</th>\n",
              "      <td>3</td>\n",
              "      <td>Certainly a decent option if you are looking f...</td>\n",
              "      <td>0</td>\n",
              "    </tr>\n",
              "    <tr>\n",
              "      <th>13</th>\n",
              "      <td>1</td>\n",
              "      <td>We were really excited to eat at the restauran...</td>\n",
              "      <td>0</td>\n",
              "    </tr>\n",
              "    <tr>\n",
              "      <th>14</th>\n",
              "      <td>4</td>\n",
              "      <td>Pastrami sandwich(hot) was great. Tender and p...</td>\n",
              "      <td>0</td>\n",
              "    </tr>\n",
              "    <tr>\n",
              "      <th>15</th>\n",
              "      <td>4</td>\n",
              "      <td>I went here with my mom as a birthday\\/ mom da...</td>\n",
              "      <td>0</td>\n",
              "    </tr>\n",
              "    <tr>\n",
              "      <th>16</th>\n",
              "      <td>5</td>\n",
              "      <td>Installed a roof-mounted AC unit on my house. ...</td>\n",
              "      <td>1</td>\n",
              "    </tr>\n",
              "    <tr>\n",
              "      <th>17</th>\n",
              "      <td>1</td>\n",
              "      <td>Last week I stopped by the shop before heading...</td>\n",
              "      <td>5</td>\n",
              "    </tr>\n",
              "    <tr>\n",
              "      <th>18</th>\n",
              "      <td>3</td>\n",
              "      <td>Place is good! If you are a carnivore, you wil...</td>\n",
              "      <td>0</td>\n",
              "    </tr>\n",
              "    <tr>\n",
              "      <th>19</th>\n",
              "      <td>1</td>\n",
              "      <td>I can't say I was very pleased with my recent ...</td>\n",
              "      <td>21</td>\n",
              "    </tr>\n",
              "    <tr>\n",
              "      <th>20</th>\n",
              "      <td>5</td>\n",
              "      <td>Been going here for years, will continue to go...</td>\n",
              "      <td>0</td>\n",
              "    </tr>\n",
              "    <tr>\n",
              "      <th>21</th>\n",
              "      <td>4</td>\n",
              "      <td>Awesome little stop for great coffee and a bit...</td>\n",
              "      <td>2</td>\n",
              "    </tr>\n",
              "    <tr>\n",
              "      <th>22</th>\n",
              "      <td>1</td>\n",
              "      <td>This place was gross. I was expecting a regula...</td>\n",
              "      <td>0</td>\n",
              "    </tr>\n",
              "    <tr>\n",
              "      <th>23</th>\n",
              "      <td>5</td>\n",
              "      <td>Would definitely recommend their services.  Hi...</td>\n",
              "      <td>0</td>\n",
              "    </tr>\n",
              "    <tr>\n",
              "      <th>24</th>\n",
              "      <td>3</td>\n",
              "      <td>I'm torn.\\n\\nBecause the bathroom was like som...</td>\n",
              "      <td>3</td>\n",
              "    </tr>\n",
              "    <tr>\n",
              "      <th>25</th>\n",
              "      <td>5</td>\n",
              "      <td>5 Stars for amazing CS!  We had a major emerge...</td>\n",
              "      <td>0</td>\n",
              "    </tr>\n",
              "    <tr>\n",
              "      <th>26</th>\n",
              "      <td>5</td>\n",
              "      <td>Just spent the last 2 yrs living in Korea and ...</td>\n",
              "      <td>1</td>\n",
              "    </tr>\n",
              "    <tr>\n",
              "      <th>27</th>\n",
              "      <td>1</td>\n",
              "      <td>I think this place is way overpriced for what ...</td>\n",
              "      <td>2</td>\n",
              "    </tr>\n",
              "    <tr>\n",
              "      <th>28</th>\n",
              "      <td>3</td>\n",
              "      <td>What a cute little gem of a bar! They have liv...</td>\n",
              "      <td>0</td>\n",
              "    </tr>\n",
              "    <tr>\n",
              "      <th>29</th>\n",
              "      <td>5</td>\n",
              "      <td>I love love love this place, it's definitely w...</td>\n",
              "      <td>0</td>\n",
              "    </tr>\n",
              "  </tbody>\n",
              "</table>\n",
              "</div>"
            ],
            "text/plain": [
              "    stars                                               text  useful\n",
              "0       4  The first time I went I was impressed with the...       0\n",
              "1       2  I ordered the pork bone soup. First all the si...       0\n",
              "2       4  Pita Jungle is among the tastiest of the tasty...       0\n",
              "3       3  Nice decor but seating is very intimate.  Prof...       0\n",
              "4       4  I got the Mongolian beef it was very good only...       0\n",
              "5       5  excellent, excellent sandwiches.  almost too m...       1\n",
              "6       2  Was excited to see a cafe Rio open in this loc...       4\n",
              "7       5  Awesome. Awesome. Awesome.  This place rocks. ...       0\n",
              "8       4  Nice stage and fun for small town bands. The g...       2\n",
              "9       3  I try my best to keep away from fast food and ...       0\n",
              "10      2  For the most part, my coffee gets to me in the...       0\n",
              "11      2  You don't go into a Chinese buffet with high e...       8\n",
              "12      3  Certainly a decent option if you are looking f...       0\n",
              "13      1  We were really excited to eat at the restauran...       0\n",
              "14      4  Pastrami sandwich(hot) was great. Tender and p...       0\n",
              "15      4  I went here with my mom as a birthday\\/ mom da...       0\n",
              "16      5  Installed a roof-mounted AC unit on my house. ...       1\n",
              "17      1  Last week I stopped by the shop before heading...       5\n",
              "18      3  Place is good! If you are a carnivore, you wil...       0\n",
              "19      1  I can't say I was very pleased with my recent ...      21\n",
              "20      5  Been going here for years, will continue to go...       0\n",
              "21      4  Awesome little stop for great coffee and a bit...       2\n",
              "22      1  This place was gross. I was expecting a regula...       0\n",
              "23      5  Would definitely recommend their services.  Hi...       0\n",
              "24      3  I'm torn.\\n\\nBecause the bathroom was like som...       3\n",
              "25      5  5 Stars for amazing CS!  We had a major emerge...       0\n",
              "26      5  Just spent the last 2 yrs living in Korea and ...       1\n",
              "27      1  I think this place is way overpriced for what ...       2\n",
              "28      3  What a cute little gem of a bar! They have liv...       0\n",
              "29      5  I love love love this place, it's definitely w...       0"
            ]
          },
          "execution_count": 12,
          "metadata": {},
          "output_type": "execute_result"
        }
      ],
      "source": [
        "yelp_data.head(30)"
      ]
    },
    {
      "cell_type": "code",
      "execution_count": null,
      "metadata": {
        "id": "Rj1sS5a0AzmR"
      },
      "outputs": [],
      "source": [
        "bert_layer=hub.KerasLayer(\"https://tfhub.dev/tensorflow/bert_en_uncased_L-12_H-768_A-12/2\",trainable=True)"
      ]
    },
    {
      "cell_type": "code",
      "execution_count": null,
      "metadata": {
        "id": "OlrLVLRX-9Kj"
      },
      "outputs": [],
      "source": [
        "vocab_file = bert_layer.resolved_object.vocab_file.asset_path.numpy()\n",
        "do_lower_case = bert_layer.resolved_object.do_lower_case.numpy()\n",
        "tokenizer = tokenization.FullTokenizer(vocab_file, do_lower_case)"
      ]
    },
    {
      "cell_type": "code",
      "execution_count": null,
      "metadata": {
        "colab": {
          "base_uri": "https://localhost:8080/"
        },
        "id": "wb5rwXqo_hRg",
        "outputId": "b3ad43dd-0553-468a-b367-eae3835b9227"
      },
      "outputs": [
        {
          "data": {
            "text/plain": [
              "[101, 102]"
            ]
          },
          "execution_count": 15,
          "metadata": {},
          "output_type": "execute_result"
        }
      ],
      "source": [
        "tokenizer.convert_tokens_to_ids(['[CLS]', '[SEP]'])"
      ]
    },
    {
      "cell_type": "code",
      "execution_count": null,
      "metadata": {
        "id": "9qZPmKD0_hVk"
      },
      "outputs": [],
      "source": [
        "x = yelp_data.text.values\n",
        "y = yelp_data.stars.values\n",
        "\n",
        "encoder = LabelEncoder()\n",
        "encoder.fit(y)\n",
        "\n",
        "encoded_Y_test = encoder.transform(y)\n",
        "dummy_y_test = to_categorical(encoded_Y_test)"
      ]
    },
    {
      "cell_type": "code",
      "execution_count": null,
      "metadata": {
        "id": "xzgoLYrfBptr"
      },
      "outputs": [],
      "source": [
        "max_seq_length = 512\n"
      ]
    },
    {
      "cell_type": "code",
      "execution_count": null,
      "metadata": {
        "id": "4O-FxKATBpy4"
      },
      "outputs": [],
      "source": [
        "def encode_names(n, tokenizer):\n",
        "   tokens = list(tokenizer.tokenize(n))\n",
        "   tokens.append('[SEP]')\n",
        "   return tokenizer.convert_tokens_to_ids(tokens)\n",
        "\n",
        "def bert_encode(string_list, tokenizer, max_seq_length):\n",
        "  num_examples = len(string_list)\n",
        "  \n",
        "  string_tokens = tf.ragged.constant([\n",
        "      encode_names(n, tokenizer) for n in np.array(string_list)])\n",
        "\n",
        "  cls = [tokenizer.convert_tokens_to_ids(['[CLS]'])]*string_tokens.shape[0]\n",
        "  input_word_ids = tf.concat([cls, string_tokens], axis=-1)\n",
        "\n",
        "  input_mask = tf.ones_like(input_word_ids).to_tensor(shape=(None, max_seq_length))\n",
        "\n",
        "  type_cls = tf.zeros_like(cls)\n",
        "  type_tokens = tf.ones_like(string_tokens)\n",
        "  input_type_ids = tf.concat(\n",
        "      [type_cls, type_tokens], axis=-1).to_tensor(shape=(None, max_seq_length))\n",
        "\n",
        "\n",
        "\n",
        "  inputs = {\n",
        "      'input_word_ids': input_word_ids.to_tensor(shape=(None, max_seq_length)),\n",
        "      'input_mask': input_mask,\n",
        "      'input_type_ids': input_type_ids}\n",
        "\n",
        "  return inputs"
      ]
    },
    {
      "cell_type": "code",
      "execution_count": null,
      "metadata": {
        "id": "Knih4JzHBp4c"
      },
      "outputs": [],
      "source": [
        "X_test = bert_encode(x, tokenizer, max_seq_length)"
      ]
    },
    {
      "cell_type": "code",
      "execution_count": null,
      "metadata": {
        "id": "rh2HbxdvBp99"
      },
      "outputs": [],
      "source": [
        "# load in the model which achieved 81% validation accuracy \n",
        "model_fname = 'Ratings_BERT_7'\n",
        "my_wd = '/content/drive/My Drive'\n",
        "\n",
        "model = tf.keras.models.load_model(os.path.join(my_wd, model_fname)) "
      ]
    },
    {
      "cell_type": "code",
      "execution_count": null,
      "metadata": {
        "colab": {
          "base_uri": "https://localhost:8080/"
        },
        "id": "77JM7Sdx3DuU",
        "outputId": "e11938bf-691e-4e84-d20c-6285e738d03d"
      },
      "outputs": [
        {
          "name": "stdout",
          "output_type": "stream",
          "text": [
            "31250/31250 [==============================] - 5861s 188ms/step\n",
            "              precision    recall  f1-score   support\n",
            "\n",
            "           1     0.6821    0.8103    0.7407     50000\n",
            "           2     0.5755    0.4045    0.4751     50000\n",
            "           3     0.5632    0.4587    0.5056     50000\n",
            "           4     0.4769    0.3459    0.4010     50000\n",
            "           5     0.5692    0.8932    0.6953     50000\n",
            "\n",
            "    accuracy                         0.5825    250000\n",
            "   macro avg     0.5734    0.5825    0.5635    250000\n",
            "weighted avg     0.5734    0.5825    0.5635    250000\n",
            "\n"
          ]
        }
      ],
      "source": [
        "from sklearn.metrics import classification_report\n",
        "from sklearn.metrics import accuracy_score\n",
        "\n",
        "y_pred = model.predict(X_test, batch_size=8, verbose=1)\n",
        "y_pred_bool = np.argmax(y_pred, axis=1) + 1\n",
        "print(classification_report(y, y_pred_bool, labels=[1,2,3,4,5], digits=4))"
      ]
    },
    {
      "cell_type": "code",
      "execution_count": null,
      "metadata": {
        "colab": {
          "base_uri": "https://localhost:8080/"
        },
        "id": "C4h_mWOa3DxE",
        "outputId": "733a8a87-0cdd-4ad9-df16-534e0908f5a7"
      },
      "outputs": [
        {
          "name": "stdout",
          "output_type": "stream",
          "text": [
            "Testing Accuracy:  0.5825\n"
          ]
        }
      ],
      "source": [
        "loss, accuracy = model.evaluate(X_test, dummy_y_test, verbose=False)\n",
        "print(\"Testing Accuracy:  {:.4f}\".format(accuracy))"
      ]
    },
    {
      "cell_type": "code",
      "execution_count": null,
      "metadata": {
        "id": "a7fUvq-vwRsb"
      },
      "outputs": [],
      "source": [
        ""
      ]
    },
    {
      "cell_type": "code",
      "execution_count": null,
      "metadata": {
        "id": "ed6VCrkoFj8G"
      },
      "outputs": [],
      "source": [
        ""
      ]
    },
    {
      "cell_type": "code",
      "execution_count": null,
      "metadata": {
        "id": "DAGKBe-pFjxa"
      },
      "outputs": [],
      "source": [
        ""
      ]
    },
    {
      "cell_type": "code",
      "execution_count": null,
      "metadata": {
        "id": "xv_U2b-T3D1u"
      },
      "outputs": [],
      "source": [
        ""
      ]
    }
  ],
  "metadata": {
    "accelerator": "GPU",
    "colab": {
      "collapsed_sections": [],
      "machine_shape": "hm",
      "name": "Yelp_testing_5_categories_long.ipynb",
      "provenance": [],
      "include_colab_link": true
    },
    "kernelspec": {
      "display_name": "Python 3",
      "name": "python3"
    },
    "language_info": {
      "name": "python"
    }
  },
  "nbformat": 4,
  "nbformat_minor": 0
}
