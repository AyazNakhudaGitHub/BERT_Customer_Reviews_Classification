{
  "cells": [
    {
      "cell_type": "markdown",
      "metadata": {
        "id": "view-in-github",
        "colab_type": "text"
      },
      "source": [
        "<a href=\"https://colab.research.google.com/github/AyazNakhudaGitHub/BERT_Customer_Reviews_Classification/blob/main/Yelp_testing_3_categories_Summary.ipynb\" target=\"_parent\"><img src=\"https://colab.research.google.com/assets/colab-badge.svg\" alt=\"Open In Colab\"/></a>"
      ]
    },
    {
      "cell_type": "markdown",
      "source": [
        "# **Yelp Data Testing, 3 Categories, Summary Review Texts**"
      ],
      "metadata": {
        "id": "U8Dmkpnnwv9a"
      }
    },
    {
      "cell_type": "markdown",
      "source": [
        "In this notebook, we test the model which utilized the summary data that was grouped into 3 categories. The data used for testing is the Yelp dataset provided. The model has never seen this dataset before."
      ],
      "metadata": {
        "id": "6VsYbJNBwxt4"
      }
    },
    {
      "cell_type": "code",
      "execution_count": null,
      "metadata": {
        "colab": {
          "base_uri": "https://localhost:8080/"
        },
        "id": "new6ZjA5_IRx",
        "outputId": "a5fbbe25-89b8-4449-b97f-51505a18402d"
      },
      "outputs": [
        {
          "name": "stdout",
          "output_type": "stream",
          "text": [
            "\u001b[K     |████████████████████████████████| 1.1 MB 8.4 MB/s \n",
            "\u001b[K     |████████████████████████████████| 1.1 MB 58.9 MB/s \n",
            "\u001b[K     |████████████████████████████████| 352 kB 93.9 MB/s \n",
            "\u001b[K     |████████████████████████████████| 213 kB 102.8 MB/s \n",
            "\u001b[K     |████████████████████████████████| 1.2 MB 60.0 MB/s \n",
            "\u001b[K     |████████████████████████████████| 596 kB 58.4 MB/s \n",
            "\u001b[K     |████████████████████████████████| 43 kB 2.4 MB/s \n",
            "\u001b[K     |████████████████████████████████| 99 kB 11.9 MB/s \n",
            "\u001b[K     |████████████████████████████████| 47.6 MB 1.1 MB/s \n",
            "\u001b[?25h  Building wheel for py-cpuinfo (setup.py) ... \u001b[?25l\u001b[?25hdone\n",
            "  Building wheel for seqeval (setup.py) ... \u001b[?25l\u001b[?25hdone\n"
          ]
        }
      ],
      "source": [
        "!pip install -q tf-models-official==2.4.0"
      ]
    },
    {
      "cell_type": "code",
      "execution_count": null,
      "metadata": {
        "colab": {
          "base_uri": "https://localhost:8080/"
        },
        "id": "Rc-Q9WfK_Gip",
        "outputId": "9c39d1cb-0afc-46b9-99cb-2f9e0a3dadaa"
      },
      "outputs": [
        {
          "name": "stdout",
          "output_type": "stream",
          "text": [
            "\u001b[K     |████████████████████████████████| 4.9 MB 9.1 MB/s \n",
            "\u001b[?25h"
          ]
        }
      ],
      "source": [
        "!pip install -q -U tensorflow-text"
      ]
    },
    {
      "cell_type": "code",
      "execution_count": null,
      "metadata": {
        "id": "atVK8gvH_FDY"
      },
      "outputs": [],
      "source": [
        "import os\n",
        "import urllib, json\n",
        "\n",
        "import numpy as np\n",
        "import pandas as pd\n",
        "\n",
        "import tensorflow as tf\n",
        "import tensorflow_hub as hub\n",
        "import seaborn as sns\n",
        "from tensorflow.keras.utils import to_categorical\n",
        "\n",
        "import official.nlp.bert.bert_models\n",
        "import official.nlp.bert.configs\n",
        "import official.nlp.bert.run_classifier\n",
        "import official.nlp.bert.tokenization as tokenization\n",
        "\n",
        "from official.modeling import tf_utils\n",
        "from official import nlp\n",
        "from official.nlp import bert\n",
        "\n",
        "from sklearn.model_selection import train_test_split\n",
        "from sklearn.preprocessing import LabelEncoder\n",
        "\n",
        "import matplotlib.pyplot as plt"
      ]
    },
    {
      "cell_type": "code",
      "execution_count": null,
      "metadata": {
        "colab": {
          "base_uri": "https://localhost:8080/"
        },
        "id": "qOntoFCo_RZ6",
        "outputId": "fed16694-d41d-4744-ca7e-b5e3bfdb8a5c"
      },
      "outputs": [
        {
          "data": {
            "text/plain": [
              "[name: \"/device:CPU:0\"\n",
              " device_type: \"CPU\"\n",
              " memory_limit: 268435456\n",
              " locality {\n",
              " }\n",
              " incarnation: 1572224646813362459\n",
              " xla_global_id: -1, name: \"/device:GPU:0\"\n",
              " device_type: \"GPU\"\n",
              " memory_limit: 16154099712\n",
              " locality {\n",
              "   bus_id: 1\n",
              "   links {\n",
              "   }\n",
              " }\n",
              " incarnation: 2038829120124825658\n",
              " physical_device_desc: \"device: 0, name: Tesla P100-PCIE-16GB, pci bus id: 0000:00:04.0, compute capability: 6.0\"\n",
              " xla_global_id: 416903419]"
            ]
          },
          "execution_count": 4,
          "metadata": {},
          "output_type": "execute_result"
        }
      ],
      "source": [
        "from tensorflow.python.client import device_lib\n",
        "device_lib.list_local_devices()"
      ]
    },
    {
      "cell_type": "code",
      "execution_count": null,
      "metadata": {
        "colab": {
          "base_uri": "https://localhost:8080/"
        },
        "id": "P5EolVlE_Vu1",
        "outputId": "fc3231ff-0583-4590-baf3-38a4ab766762"
      },
      "outputs": [
        {
          "name": "stdout",
          "output_type": "stream",
          "text": [
            "Mounted at /content/drive\n"
          ]
        }
      ],
      "source": [
        "from google.colab import drive\n",
        "drive.mount('/content/drive')"
      ]
    },
    {
      "cell_type": "code",
      "execution_count": null,
      "metadata": {
        "id": "eDzq6zz13RCT"
      },
      "outputs": [],
      "source": [
        "yelp_data = pd.read_pickle(\"small_yelp\")"
      ]
    },
    {
      "cell_type": "markdown",
      "source": [
        "Below we select an equal number of instances from each category."
      ],
      "metadata": {
        "id": "NHja8aT4xGDC"
      }
    },
    {
      "cell_type": "code",
      "execution_count": null,
      "metadata": {
        "colab": {
          "base_uri": "https://localhost:8080/",
          "height": 512
        },
        "id": "PfrqGS9l3Drm",
        "outputId": "0d001028-670e-4809-862f-865989893a69"
      },
      "outputs": [
        {
          "data": {
            "image/png": "[encoded data removed]",
            "text/plain": [
              "<Figure size 864x576 with 2 Axes>"
            ]
          },
          "metadata": {
            "needs_background": "light"
          },
          "output_type": "display_data"
        }
      ],
      "source": [
        "import seaborn as sns\n",
        "import matplotlib.ticker as ticker\n",
        "plt.figure(figsize=(12,8))\n",
        "ax = sns.countplot(x=\"stars\", data=yelp_data, order=[1,2,3,4,5])\n",
        "plt.title('Distribution of Ratings Given')\n",
        "plt.xlabel('Ratings Categories')\n",
        "ncount = len(yelp_data)\n",
        "# Make twin axis\n",
        "ax2=ax.twinx()\n",
        "\n",
        "# Switch so count axis is on right, frequency on left\n",
        "ax2.yaxis.tick_left()\n",
        "ax.yaxis.tick_right()\n",
        "\n",
        "# Also switch the labels over\n",
        "ax.yaxis.set_label_position('right')\n",
        "ax2.yaxis.set_label_position('left')\n",
        "\n",
        "ax2.set_ylabel('Frequency [%]')\n",
        "\n",
        "for p in ax.patches:\n",
        "    x=p.get_bbox().get_points()[:,0]\n",
        "    y=p.get_bbox().get_points()[1,1]\n",
        "    ax.annotate('{:.1f}%'.format(100.*y/ncount), (x.mean(), y),\n",
        "            ha='center', va='bottom') # set the alignment of the text\n",
        "\n",
        "# Use a LinearLocator to ensure the correct number of ticks\n",
        "ax.yaxis.set_major_locator(ticker.LinearLocator(11))\n",
        "\n",
        "# Fix the frequency range to 0-100\n",
        "ax2.set_ylim(0,100)\n",
        "ax.set_ylim(0,ncount)\n",
        "\n",
        "# And use a MultipleLocator to ensure a tick spacing of 10\n",
        "ax2.yaxis.set_major_locator(ticker.MultipleLocator(10))\n",
        "\n",
        "# Need to turn the grid on ax2 off, otherwise the gridlines end up on top of the bars\n",
        "ax2.grid(None)"
      ]
    },
    {
      "cell_type": "code",
      "execution_count": null,
      "metadata": {
        "colab": {
          "base_uri": "https://localhost:8080/"
        },
        "id": "8FrVNB2A_puz",
        "outputId": "1e1eff8d-b818-4d6f-bb93-833971650dbc"
      },
      "outputs": [
        {
          "name": "stdout",
          "output_type": "stream",
          "text": [
            "<class 'pandas.core.frame.DataFrame'>\n",
            "Int64Index: 250000 entries, 550897 to 2950589\n",
            "Data columns (total 3 columns):\n",
            " #   Column  Non-Null Count   Dtype \n",
            "---  ------  --------------   ----- \n",
            " 0   stars   250000 non-null  int64 \n",
            " 1   text    250000 non-null  object\n",
            " 2   useful  250000 non-null  int64 \n",
            "dtypes: int64(2), object(1)\n",
            "memory usage: 17.6+ MB\n"
          ]
        }
      ],
      "source": [
        "yelp_data.info()"
      ]
    },
    {
      "cell_type": "code",
      "execution_count": null,
      "metadata": {
        "colab": {
          "base_uri": "https://localhost:8080/",
          "height": 962
        },
        "id": "Hn6h6Hiu_xd6",
        "outputId": "e1a33c0d-c621-4c6b-d845-baec40e3acdb"
      },
      "outputs": [
        {
          "data": {
            "text/html": [
              "<div>\n",
              "<style scoped>\n",
              "    .dataframe tbody tr th:only-of-type {\n",
              "        vertical-align: middle;\n",
              "    }\n",
              "\n",
              "    .dataframe tbody tr th {\n",
              "        vertical-align: top;\n",
              "    }\n",
              "\n",
              "    .dataframe thead th {\n",
              "        text-align: right;\n",
              "    }\n",
              "</style>\n",
              "<table border=\"1\" class=\"dataframe\">\n",
              "  <thead>\n",
              "    <tr style=\"text-align: right;\">\n",
              "      <th></th>\n",
              "      <th>stars</th>\n",
              "      <th>text</th>\n",
              "      <th>useful</th>\n",
              "    </tr>\n",
              "  </thead>\n",
              "  <tbody>\n",
              "    <tr>\n",
              "      <th>550897</th>\n",
              "      <td>1</td>\n",
              "      <td>I went to this crummy den of rat turds on a bl...</td>\n",
              "      <td>1</td>\n",
              "    </tr>\n",
              "    <tr>\n",
              "      <th>515660</th>\n",
              "      <td>1</td>\n",
              "      <td>This body shop is the worst.  I would never ta...</td>\n",
              "      <td>0</td>\n",
              "    </tr>\n",
              "    <tr>\n",
              "      <th>539261</th>\n",
              "      <td>1</td>\n",
              "      <td>I had one plate and left most of it on there. ...</td>\n",
              "      <td>3</td>\n",
              "    </tr>\n",
              "    <tr>\n",
              "      <th>2496804</th>\n",
              "      <td>1</td>\n",
              "      <td>I'm disappointed that I didn't go with lil Cae...</td>\n",
              "      <td>1</td>\n",
              "    </tr>\n",
              "    <tr>\n",
              "      <th>4248315</th>\n",
              "      <td>1</td>\n",
              "      <td>Forget the somewhat manufactured-looking decen...</td>\n",
              "      <td>3</td>\n",
              "    </tr>\n",
              "    <tr>\n",
              "      <th>3129230</th>\n",
              "      <td>1</td>\n",
              "      <td>Customer service is horrible. Did not know thi...</td>\n",
              "      <td>0</td>\n",
              "    </tr>\n",
              "    <tr>\n",
              "      <th>614763</th>\n",
              "      <td>1</td>\n",
              "      <td>Bof - le pizza average et les pâtes - plate du...</td>\n",
              "      <td>1</td>\n",
              "    </tr>\n",
              "    <tr>\n",
              "      <th>828025</th>\n",
              "      <td>1</td>\n",
              "      <td>I really was hoping this was a great restauran...</td>\n",
              "      <td>0</td>\n",
              "    </tr>\n",
              "    <tr>\n",
              "      <th>1750500</th>\n",
              "      <td>1</td>\n",
              "      <td>Horrible, trash , bad reception ! Bad attitude...</td>\n",
              "      <td>0</td>\n",
              "    </tr>\n",
              "    <tr>\n",
              "      <th>172812</th>\n",
              "      <td>1</td>\n",
              "      <td>my bad, i wasted my time and breath here AGAIN...</td>\n",
              "      <td>1</td>\n",
              "    </tr>\n",
              "    <tr>\n",
              "      <th>3964105</th>\n",
              "      <td>1</td>\n",
              "      <td>I visited this restaurant with my boyfriend wh...</td>\n",
              "      <td>0</td>\n",
              "    </tr>\n",
              "    <tr>\n",
              "      <th>808498</th>\n",
              "      <td>1</td>\n",
              "      <td>Waited 20 minutes at the bakery for service. C...</td>\n",
              "      <td>0</td>\n",
              "    </tr>\n",
              "    <tr>\n",
              "      <th>934825</th>\n",
              "      <td>1</td>\n",
              "      <td>Sunrise coffee,\\n\\nI visited for the first tim...</td>\n",
              "      <td>4</td>\n",
              "    </tr>\n",
              "    <tr>\n",
              "      <th>4085298</th>\n",
              "      <td>1</td>\n",
              "      <td>Raw mushrooms and raw jalapeño slices. Looks l...</td>\n",
              "      <td>0</td>\n",
              "    </tr>\n",
              "    <tr>\n",
              "      <th>3385995</th>\n",
              "      <td>1</td>\n",
              "      <td>I'm posting this at 7:45pm on Friday. I was he...</td>\n",
              "      <td>0</td>\n",
              "    </tr>\n",
              "    <tr>\n",
              "      <th>1229081</th>\n",
              "      <td>1</td>\n",
              "      <td>Went to Carl's Jr again today, it will be the ...</td>\n",
              "      <td>0</td>\n",
              "    </tr>\n",
              "    <tr>\n",
              "      <th>4501438</th>\n",
              "      <td>1</td>\n",
              "      <td>I made an appointment for a ride to the airpor...</td>\n",
              "      <td>0</td>\n",
              "    </tr>\n",
              "    <tr>\n",
              "      <th>484400</th>\n",
              "      <td>1</td>\n",
              "      <td>This restaurant was not the greatest; meals we...</td>\n",
              "      <td>0</td>\n",
              "    </tr>\n",
              "    <tr>\n",
              "      <th>478317</th>\n",
              "      <td>1</td>\n",
              "      <td>Oh where do I start?  Believe all of the revie...</td>\n",
              "      <td>0</td>\n",
              "    </tr>\n",
              "    <tr>\n",
              "      <th>2135992</th>\n",
              "      <td>1</td>\n",
              "      <td>I came into drop my jeep off prior to my son's...</td>\n",
              "      <td>2</td>\n",
              "    </tr>\n",
              "    <tr>\n",
              "      <th>791952</th>\n",
              "      <td>1</td>\n",
              "      <td>A very short review.  When I go to the frozen ...</td>\n",
              "      <td>0</td>\n",
              "    </tr>\n",
              "    <tr>\n",
              "      <th>4341203</th>\n",
              "      <td>1</td>\n",
              "      <td>Absolutely the worst dry cleaner in Pittsburgh...</td>\n",
              "      <td>1</td>\n",
              "    </tr>\n",
              "    <tr>\n",
              "      <th>3100062</th>\n",
              "      <td>1</td>\n",
              "      <td>While getting our food, the manager was really...</td>\n",
              "      <td>0</td>\n",
              "    </tr>\n",
              "    <tr>\n",
              "      <th>2015576</th>\n",
              "      <td>1</td>\n",
              "      <td>I have been trying to think of a word that can...</td>\n",
              "      <td>5</td>\n",
              "    </tr>\n",
              "    <tr>\n",
              "      <th>2622935</th>\n",
              "      <td>1</td>\n",
              "      <td>Very disappointed this place. I ordered a to g...</td>\n",
              "      <td>0</td>\n",
              "    </tr>\n",
              "    <tr>\n",
              "      <th>5093001</th>\n",
              "      <td>1</td>\n",
              "      <td>Food is gross! I even gave them the benefit an...</td>\n",
              "      <td>1</td>\n",
              "    </tr>\n",
              "    <tr>\n",
              "      <th>1038768</th>\n",
              "      <td>1</td>\n",
              "      <td>Completely disappointed after giving them a se...</td>\n",
              "      <td>2</td>\n",
              "    </tr>\n",
              "    <tr>\n",
              "      <th>4135890</th>\n",
              "      <td>1</td>\n",
              "      <td>HORRIBLE CUSTOMER SERVICE. I'm actually shocke...</td>\n",
              "      <td>0</td>\n",
              "    </tr>\n",
              "    <tr>\n",
              "      <th>675333</th>\n",
              "      <td>1</td>\n",
              "      <td>I would describe the patrons as scum and the s...</td>\n",
              "      <td>0</td>\n",
              "    </tr>\n",
              "    <tr>\n",
              "      <th>4152611</th>\n",
              "      <td>1</td>\n",
              "      <td>One of the worse places for Indian food. Manag...</td>\n",
              "      <td>2</td>\n",
              "    </tr>\n",
              "  </tbody>\n",
              "</table>\n",
              "</div>"
            ],
            "text/plain": [
              "         stars                                               text  useful\n",
              "550897       1  I went to this crummy den of rat turds on a bl...       1\n",
              "515660       1  This body shop is the worst.  I would never ta...       0\n",
              "539261       1  I had one plate and left most of it on there. ...       3\n",
              "2496804      1  I'm disappointed that I didn't go with lil Cae...       1\n",
              "4248315      1  Forget the somewhat manufactured-looking decen...       3\n",
              "3129230      1  Customer service is horrible. Did not know thi...       0\n",
              "614763       1  Bof - le pizza average et les pâtes - plate du...       1\n",
              "828025       1  I really was hoping this was a great restauran...       0\n",
              "1750500      1  Horrible, trash , bad reception ! Bad attitude...       0\n",
              "172812       1  my bad, i wasted my time and breath here AGAIN...       1\n",
              "3964105      1  I visited this restaurant with my boyfriend wh...       0\n",
              "808498       1  Waited 20 minutes at the bakery for service. C...       0\n",
              "934825       1  Sunrise coffee,\\n\\nI visited for the first tim...       4\n",
              "4085298      1  Raw mushrooms and raw jalapeño slices. Looks l...       0\n",
              "3385995      1  I'm posting this at 7:45pm on Friday. I was he...       0\n",
              "1229081      1  Went to Carl's Jr again today, it will be the ...       0\n",
              "4501438      1  I made an appointment for a ride to the airpor...       0\n",
              "484400       1  This restaurant was not the greatest; meals we...       0\n",
              "478317       1  Oh where do I start?  Believe all of the revie...       0\n",
              "2135992      1  I came into drop my jeep off prior to my son's...       2\n",
              "791952       1  A very short review.  When I go to the frozen ...       0\n",
              "4341203      1  Absolutely the worst dry cleaner in Pittsburgh...       1\n",
              "3100062      1  While getting our food, the manager was really...       0\n",
              "2015576      1  I have been trying to think of a word that can...       5\n",
              "2622935      1  Very disappointed this place. I ordered a to g...       0\n",
              "5093001      1  Food is gross! I even gave them the benefit an...       1\n",
              "1038768      1  Completely disappointed after giving them a se...       2\n",
              "4135890      1  HORRIBLE CUSTOMER SERVICE. I'm actually shocke...       0\n",
              "675333       1  I would describe the patrons as scum and the s...       0\n",
              "4152611      1  One of the worse places for Indian food. Manag...       2"
            ]
          },
          "execution_count": 9,
          "metadata": {},
          "output_type": "execute_result"
        }
      ],
      "source": [
        "yelp_data.head(30)"
      ]
    },
    {
      "cell_type": "code",
      "execution_count": null,
      "metadata": {
        "id": "hLLcq7kO__oM"
      },
      "outputs": [],
      "source": [
        "from sklearn.utils import shuffle # shuffling the new data set\n",
        "yelp_data = shuffle(yelp_data)\n",
        "yelp_data.reset_index(inplace=True, drop=True)"
      ]
    },
    {
      "cell_type": "code",
      "execution_count": null,
      "metadata": {
        "colab": {
          "base_uri": "https://localhost:8080/",
          "height": 962
        },
        "id": "3-6r0UHwApyM",
        "outputId": "28085b3a-c3aa-4728-fa31-17adc50a2ddf"
      },
      "outputs": [
        {
          "data": {
            "text/html": [
              "<div>\n",
              "<style scoped>\n",
              "    .dataframe tbody tr th:only-of-type {\n",
              "        vertical-align: middle;\n",
              "    }\n",
              "\n",
              "    .dataframe tbody tr th {\n",
              "        vertical-align: top;\n",
              "    }\n",
              "\n",
              "    .dataframe thead th {\n",
              "        text-align: right;\n",
              "    }\n",
              "</style>\n",
              "<table border=\"1\" class=\"dataframe\">\n",
              "  <thead>\n",
              "    <tr style=\"text-align: right;\">\n",
              "      <th></th>\n",
              "      <th>stars</th>\n",
              "      <th>text</th>\n",
              "      <th>useful</th>\n",
              "    </tr>\n",
              "  </thead>\n",
              "  <tbody>\n",
              "    <tr>\n",
              "      <th>0</th>\n",
              "      <td>5</td>\n",
              "      <td>This place is outstanding. Their doughnuts are...</td>\n",
              "      <td>0</td>\n",
              "    </tr>\n",
              "    <tr>\n",
              "      <th>1</th>\n",
              "      <td>3</td>\n",
              "      <td>Overall 3.5 stars\\n\\nWe flew United into Las V...</td>\n",
              "      <td>3</td>\n",
              "    </tr>\n",
              "    <tr>\n",
              "      <th>2</th>\n",
              "      <td>4</td>\n",
              "      <td>Great place for pizza! I haven't actually been...</td>\n",
              "      <td>2</td>\n",
              "    </tr>\n",
              "    <tr>\n",
              "      <th>3</th>\n",
              "      <td>3</td>\n",
              "      <td>Nice spot. Great music. The jalapeños were goo...</td>\n",
              "      <td>0</td>\n",
              "    </tr>\n",
              "    <tr>\n",
              "      <th>4</th>\n",
              "      <td>1</td>\n",
              "      <td>We arrived in Vegas 12\\/21, I had called about...</td>\n",
              "      <td>4</td>\n",
              "    </tr>\n",
              "    <tr>\n",
              "      <th>5</th>\n",
              "      <td>3</td>\n",
              "      <td>I came here because a lot of people I know say...</td>\n",
              "      <td>0</td>\n",
              "    </tr>\n",
              "    <tr>\n",
              "      <th>6</th>\n",
              "      <td>4</td>\n",
              "      <td>(The stars are for the food and the funny peop...</td>\n",
              "      <td>0</td>\n",
              "    </tr>\n",
              "    <tr>\n",
              "      <th>7</th>\n",
              "      <td>2</td>\n",
              "      <td>I actually feel bad even writing this, because...</td>\n",
              "      <td>5</td>\n",
              "    </tr>\n",
              "    <tr>\n",
              "      <th>8</th>\n",
              "      <td>2</td>\n",
              "      <td>I was extremely disappointed when I first visi...</td>\n",
              "      <td>2</td>\n",
              "    </tr>\n",
              "    <tr>\n",
              "      <th>9</th>\n",
              "      <td>3</td>\n",
              "      <td>TLDR: Just an OK stay for the price\\n\\nWe had ...</td>\n",
              "      <td>1</td>\n",
              "    </tr>\n",
              "    <tr>\n",
              "      <th>10</th>\n",
              "      <td>1</td>\n",
              "      <td>Went on a Sunday afternoon. Bad silverware, se...</td>\n",
              "      <td>1</td>\n",
              "    </tr>\n",
              "    <tr>\n",
              "      <th>11</th>\n",
              "      <td>5</td>\n",
              "      <td>I had the most amazing time at Gianna Christin...</td>\n",
              "      <td>0</td>\n",
              "    </tr>\n",
              "    <tr>\n",
              "      <th>12</th>\n",
              "      <td>3</td>\n",
              "      <td>The food: They keep making changes to their me...</td>\n",
              "      <td>1</td>\n",
              "    </tr>\n",
              "    <tr>\n",
              "      <th>13</th>\n",
              "      <td>1</td>\n",
              "      <td>Please take your business elsewhere. The 1 sta...</td>\n",
              "      <td>0</td>\n",
              "    </tr>\n",
              "    <tr>\n",
              "      <th>14</th>\n",
              "      <td>3</td>\n",
              "      <td>If you're a guy be prepared to be fleeced HARD...</td>\n",
              "      <td>10</td>\n",
              "    </tr>\n",
              "    <tr>\n",
              "      <th>15</th>\n",
              "      <td>4</td>\n",
              "      <td>Delish, but they don't speak English. It doesn...</td>\n",
              "      <td>1</td>\n",
              "    </tr>\n",
              "    <tr>\n",
              "      <th>16</th>\n",
              "      <td>1</td>\n",
              "      <td>Die Bedienungen sind unfreundlich und überford...</td>\n",
              "      <td>0</td>\n",
              "    </tr>\n",
              "    <tr>\n",
              "      <th>17</th>\n",
              "      <td>4</td>\n",
              "      <td>It's been a few months since I was at Carson K...</td>\n",
              "      <td>2</td>\n",
              "    </tr>\n",
              "    <tr>\n",
              "      <th>18</th>\n",
              "      <td>2</td>\n",
              "      <td>Mediocre Italian fare. Probably not worth it u...</td>\n",
              "      <td>1</td>\n",
              "    </tr>\n",
              "    <tr>\n",
              "      <th>19</th>\n",
              "      <td>3</td>\n",
              "      <td>This was my first time dining at a filipino re...</td>\n",
              "      <td>13</td>\n",
              "    </tr>\n",
              "    <tr>\n",
              "      <th>20</th>\n",
              "      <td>2</td>\n",
              "      <td>I went here to hopefully have one more chance ...</td>\n",
              "      <td>0</td>\n",
              "    </tr>\n",
              "    <tr>\n",
              "      <th>21</th>\n",
              "      <td>1</td>\n",
              "      <td>Let me start by saying the doctor was very nic...</td>\n",
              "      <td>0</td>\n",
              "    </tr>\n",
              "    <tr>\n",
              "      <th>22</th>\n",
              "      <td>1</td>\n",
              "      <td>I used to use SS a lot with some very mixed re...</td>\n",
              "      <td>4</td>\n",
              "    </tr>\n",
              "    <tr>\n",
              "      <th>23</th>\n",
              "      <td>2</td>\n",
              "      <td>I was able to make the UYE burger challenge af...</td>\n",
              "      <td>10</td>\n",
              "    </tr>\n",
              "    <tr>\n",
              "      <th>24</th>\n",
              "      <td>1</td>\n",
              "      <td>Ok wtf. This place is lame. \\nI'm assuming all...</td>\n",
              "      <td>2</td>\n",
              "    </tr>\n",
              "    <tr>\n",
              "      <th>25</th>\n",
              "      <td>2</td>\n",
              "      <td>Today was definitely my last visit to Cien Aga...</td>\n",
              "      <td>0</td>\n",
              "    </tr>\n",
              "    <tr>\n",
              "      <th>26</th>\n",
              "      <td>3</td>\n",
              "      <td>The experience at the store was great, the sal...</td>\n",
              "      <td>2</td>\n",
              "    </tr>\n",
              "    <tr>\n",
              "      <th>27</th>\n",
              "      <td>2</td>\n",
              "      <td>I concur on 8\\/11 with Nichole's review from w...</td>\n",
              "      <td>0</td>\n",
              "    </tr>\n",
              "    <tr>\n",
              "      <th>28</th>\n",
              "      <td>1</td>\n",
              "      <td>SCAM SCAM SCAM ALERT! This is a scam! 2 salesm...</td>\n",
              "      <td>1</td>\n",
              "    </tr>\n",
              "    <tr>\n",
              "      <th>29</th>\n",
              "      <td>3</td>\n",
              "      <td>Nice bar...check.\\nPopcorn served in bar area....</td>\n",
              "      <td>0</td>\n",
              "    </tr>\n",
              "  </tbody>\n",
              "</table>\n",
              "</div>"
            ],
            "text/plain": [
              "    stars                                               text  useful\n",
              "0       5  This place is outstanding. Their doughnuts are...       0\n",
              "1       3  Overall 3.5 stars\\n\\nWe flew United into Las V...       3\n",
              "2       4  Great place for pizza! I haven't actually been...       2\n",
              "3       3  Nice spot. Great music. The jalapeños were goo...       0\n",
              "4       1  We arrived in Vegas 12\\/21, I had called about...       4\n",
              "5       3  I came here because a lot of people I know say...       0\n",
              "6       4  (The stars are for the food and the funny peop...       0\n",
              "7       2  I actually feel bad even writing this, because...       5\n",
              "8       2  I was extremely disappointed when I first visi...       2\n",
              "9       3  TLDR: Just an OK stay for the price\\n\\nWe had ...       1\n",
              "10      1  Went on a Sunday afternoon. Bad silverware, se...       1\n",
              "11      5  I had the most amazing time at Gianna Christin...       0\n",
              "12      3  The food: They keep making changes to their me...       1\n",
              "13      1  Please take your business elsewhere. The 1 sta...       0\n",
              "14      3  If you're a guy be prepared to be fleeced HARD...      10\n",
              "15      4  Delish, but they don't speak English. It doesn...       1\n",
              "16      1  Die Bedienungen sind unfreundlich und überford...       0\n",
              "17      4  It's been a few months since I was at Carson K...       2\n",
              "18      2  Mediocre Italian fare. Probably not worth it u...       1\n",
              "19      3  This was my first time dining at a filipino re...      13\n",
              "20      2  I went here to hopefully have one more chance ...       0\n",
              "21      1  Let me start by saying the doctor was very nic...       0\n",
              "22      1  I used to use SS a lot with some very mixed re...       4\n",
              "23      2  I was able to make the UYE burger challenge af...      10\n",
              "24      1  Ok wtf. This place is lame. \\nI'm assuming all...       2\n",
              "25      2  Today was definitely my last visit to Cien Aga...       0\n",
              "26      3  The experience at the store was great, the sal...       2\n",
              "27      2  I concur on 8\\/11 with Nichole's review from w...       0\n",
              "28      1  SCAM SCAM SCAM ALERT! This is a scam! 2 salesm...       1\n",
              "29      3  Nice bar...check.\\nPopcorn served in bar area....       0"
            ]
          },
          "execution_count": 11,
          "metadata": {},
          "output_type": "execute_result"
        }
      ],
      "source": [
        "yelp_data.head(30)"
      ]
    },
    {
      "cell_type": "code",
      "execution_count": null,
      "metadata": {
        "id": "tqXfn2eJoE5D"
      },
      "outputs": [],
      "source": [
        "# getting the 1's \n",
        "np.random.seed(10)\n",
        "get_n = 25000\n",
        "index_to_get = yelp_data[yelp_data.stars == 1].index\n",
        "get_indices_a = np.random.choice(index_to_get, get_n, replace=False)\n",
        "data_a = yelp_data.loc[get_indices_a]\n",
        "\n",
        "# getting the 2's \n",
        "np.random.seed(10)\n",
        "get_n = 25000\n",
        "index_to_get = yelp_data[yelp_data.stars == 2].index\n",
        "get_indices_b = np.random.choice(index_to_get, get_n, replace=False)\n",
        "data_b = yelp_data.loc[get_indices_b]\n",
        "\n",
        "\n",
        "# getting the 3's\n",
        "np.random.seed(10)\n",
        "get_n = 50000\n",
        "index_to_get = yelp_data[yelp_data.stars == 3].index\n",
        "get_indices_c = np.random.choice(index_to_get, get_n, replace=False)\n",
        "data_c = yelp_data.loc[get_indices_c]\n",
        "\n",
        "# getting the 4's\n",
        "np.random.seed(10)\n",
        "get_n = 25000\n",
        "index_to_get = yelp_data[yelp_data.stars == 4].index\n",
        "get_indices_d = np.random.choice(index_to_get, get_n, replace=False)\n",
        "data_d = yelp_data.loc[get_indices_d]\n",
        "\n",
        "# getting the 5's\n",
        "np.random.seed(10)\n",
        "get_n = 25000\n",
        "index_to_get = yelp_data[yelp_data.stars == 5].index\n",
        "get_indices_e = np.random.choice(index_to_get, get_n, replace=False)\n",
        "data_e = yelp_data.loc[get_indices_e]\n"
      ]
    },
    {
      "cell_type": "code",
      "execution_count": null,
      "metadata": {
        "id": "GwA4FEtFqJUW"
      },
      "outputs": [],
      "source": [
        "drop_indicies = np.concatenate((get_indices_a,get_indices_b,get_indices_c,get_indices_d,get_indices_e),axis=0)\n",
        "yelp_data_new = pd.concat([data_a, data_b, data_c,data_d,data_e])"
      ]
    },
    {
      "cell_type": "code",
      "execution_count": null,
      "metadata": {
        "colab": {
          "base_uri": "https://localhost:8080/",
          "height": 284
        },
        "id": "TGl_XfqLmIAD",
        "outputId": "9a08c3fe-2057-44fa-8585-3ac6b83b800b"
      },
      "outputs": [
        {
          "data": {
            "image/png": "[encoded data removed]",
            "text/plain": [
              "<Figure size 432x288 with 1 Axes>"
            ]
          },
          "metadata": {},
          "output_type": "display_data"
        }
      ],
      "source": [
        "for index, row in yelp_data_new.iterrows():\n",
        "    if row['stars'] == 2:\n",
        "      yelp_data_new.at[index,'stars'] = 1\n",
        "    elif row['stars'] == 4:\n",
        "      yelp_data_new.at[index,'stars'] = 5\n",
        "\n",
        "sns.set_theme()\n",
        "ax = sns.countplot(x=\"stars\", data=yelp_data_new)"
      ]
    },
    {
      "cell_type": "code",
      "execution_count": null,
      "metadata": {
        "colab": {
          "base_uri": "https://localhost:8080/",
          "height": 284
        },
        "id": "cyaiOmoiq4du",
        "outputId": "b5fa5923-0a09-41af-eed3-eaa42bb2f8e7"
      },
      "outputs": [
        {
          "data": {
            "image/png": "[encoded data removed]",
            "text/plain": [
              "<Figure size 432x288 with 1 Axes>"
            ]
          },
          "metadata": {},
          "output_type": "display_data"
        }
      ],
      "source": [
        "for index, row in yelp_data_new.iterrows():\n",
        "    if row['stars'] == 3:\n",
        "       yelp_data_new.at[index,'stars'] = 2\n",
        "    elif row['stars'] == 5:\n",
        "      yelp_data_new.at[index,'stars'] = 3\n",
        "\n",
        "sns.set_theme()\n",
        "ax = sns.countplot(x=\"stars\", data=yelp_data_new)"
      ]
    },
    {
      "cell_type": "code",
      "execution_count": null,
      "metadata": {
        "id": "RIQC4D2omIDb"
      },
      "outputs": [],
      "source": [
        "from sklearn.utils import shuffle # shuffling the new data set\n",
        "yelp_data_new = shuffle(yelp_data_new)\n",
        "yelp_data_new.reset_index(inplace=True, drop=True)"
      ]
    },
    {
      "cell_type": "code",
      "execution_count": null,
      "metadata": {
        "colab": {
          "base_uri": "https://localhost:8080/",
          "height": 517
        },
        "id": "WtF_wCZ6mIGh",
        "outputId": "9fde6f4c-8aa3-4737-b180-22c461ef4971"
      },
      "outputs": [
        {
          "data": {
            "image/png": "[encoded data removed]",
            "text/plain": [
              "<Figure size 864x576 with 2 Axes>"
            ]
          },
          "metadata": {},
          "output_type": "display_data"
        }
      ],
      "source": [
        "import matplotlib.ticker as ticker\n",
        "plt.figure(figsize=(12,8))\n",
        "ax = sns.countplot(x=\"stars\", data=yelp_data_new, order=[1,2,3])\n",
        "plt.title('Distribution of Ratings Given')\n",
        "plt.xlabel('Ratings Categories')\n",
        "ncount = len(yelp_data_new)\n",
        "# Make twin axis\n",
        "ax2=ax.twinx()\n",
        "\n",
        "# Switch so count axis is on right, frequency on left\n",
        "ax2.yaxis.tick_left()\n",
        "ax.yaxis.tick_right()\n",
        "\n",
        "# Also switch the labels over\n",
        "ax.yaxis.set_label_position('right')\n",
        "ax2.yaxis.set_label_position('left')\n",
        "\n",
        "ax2.set_ylabel('Frequency [%]')\n",
        "\n",
        "for p in ax.patches:\n",
        "    x=p.get_bbox().get_points()[:,0]\n",
        "    y=p.get_bbox().get_points()[1,1]\n",
        "    ax.annotate('{:.1f}%'.format(100.*y/ncount), (x.mean(), y), \n",
        "            ha='center', va='bottom') # set the alignment of the text\n",
        "\n",
        "# Use a LinearLocator to ensure the correct number of ticks\n",
        "ax.yaxis.set_major_locator(ticker.LinearLocator(11))\n",
        "\n",
        "# Fix the frequency range to 0-100\n",
        "ax2.set_ylim(0,100)\n",
        "ax.set_ylim(0,ncount)\n",
        "\n",
        "# And use a MultipleLocator to ensure a tick spacing of 10\n",
        "ax2.yaxis.set_major_locator(ticker.MultipleLocator(10))\n",
        "\n",
        "# Need to turn the grid on ax2 off, otherwise the gridlines end up on top of the bars\n",
        "ax2.grid(None)"
      ]
    },
    {
      "cell_type": "code",
      "execution_count": null,
      "metadata": {
        "id": "Rj1sS5a0AzmR"
      },
      "outputs": [],
      "source": [
        "bert_layer=hub.KerasLayer(\"https://tfhub.dev/tensorflow/bert_en_uncased_L-12_H-768_A-12/2\",trainable=True)"
      ]
    },
    {
      "cell_type": "code",
      "execution_count": null,
      "metadata": {
        "id": "OlrLVLRX-9Kj"
      },
      "outputs": [],
      "source": [
        "vocab_file = bert_layer.resolved_object.vocab_file.asset_path.numpy()\n",
        "do_lower_case = bert_layer.resolved_object.do_lower_case.numpy()\n",
        "tokenizer = tokenization.FullTokenizer(vocab_file, do_lower_case)"
      ]
    },
    {
      "cell_type": "code",
      "execution_count": null,
      "metadata": {
        "colab": {
          "base_uri": "https://localhost:8080/"
        },
        "id": "wb5rwXqo_hRg",
        "outputId": "dc3e1b7f-5519-466f-960e-ce81315f9e05"
      },
      "outputs": [
        {
          "data": {
            "text/plain": [
              "[101, 102]"
            ]
          },
          "execution_count": 25,
          "metadata": {},
          "output_type": "execute_result"
        }
      ],
      "source": [
        "tokenizer.convert_tokens_to_ids(['[CLS]', '[SEP]'])"
      ]
    },
    {
      "cell_type": "code",
      "execution_count": null,
      "metadata": {
        "id": "9qZPmKD0_hVk"
      },
      "outputs": [],
      "source": [
        "x = yelp_data_new.text.values\n",
        "y = yelp_data_new.stars.values\n",
        "\n",
        "encoder = LabelEncoder()\n",
        "encoder.fit(y)\n",
        "\n",
        "encoded_Y_test = encoder.transform(y)\n",
        "dummy_y_test = to_categorical(encoded_Y_test)"
      ]
    },
    {
      "cell_type": "code",
      "execution_count": null,
      "metadata": {
        "id": "xzgoLYrfBptr"
      },
      "outputs": [],
      "source": [
        "max_seq_length = 85\n"
      ]
    },
    {
      "cell_type": "code",
      "execution_count": null,
      "metadata": {
        "id": "4O-FxKATBpy4"
      },
      "outputs": [],
      "source": [
        "def encode_names(n, tokenizer):\n",
        "   #tokens = list(tokenizer.tokenize(n))\n",
        "   tokens = list(tokenizer.tokenize(n)[:24]+tokenizer.tokenize(n)[-59:])\n",
        "   tokens.append('[SEP]')\n",
        "   return tokenizer.convert_tokens_to_ids(tokens)\n",
        "\n",
        "def bert_encode(string_list, tokenizer, max_seq_length):\n",
        "  num_examples = len(string_list)\n",
        "  \n",
        "  string_tokens = tf.ragged.constant([\n",
        "      encode_names(n, tokenizer) for n in np.array(string_list)])\n",
        "\n",
        "  cls = [tokenizer.convert_tokens_to_ids(['[CLS]'])]*string_tokens.shape[0]\n",
        "  input_word_ids = tf.concat([cls, string_tokens], axis=-1)\n",
        "\n",
        "  input_mask = tf.ones_like(input_word_ids).to_tensor(shape=(None, max_seq_length))\n",
        "\n",
        "  type_cls = tf.zeros_like(cls)\n",
        "  type_tokens = tf.ones_like(string_tokens)\n",
        "  input_type_ids = tf.concat(\n",
        "      [type_cls, type_tokens], axis=-1).to_tensor(shape=(None, max_seq_length))\n",
        "\n",
        "\n",
        "\n",
        "  inputs = {\n",
        "      'input_word_ids': input_word_ids.to_tensor(shape=(None, max_seq_length)),\n",
        "      'input_mask': input_mask,\n",
        "      'input_type_ids': input_type_ids}\n",
        "\n",
        "  return inputs"
      ]
    },
    {
      "cell_type": "code",
      "execution_count": null,
      "metadata": {
        "id": "Knih4JzHBp4c"
      },
      "outputs": [],
      "source": [
        "X_test = bert_encode(x, tokenizer, max_seq_length)"
      ]
    },
    {
      "cell_type": "code",
      "execution_count": null,
      "metadata": {
        "id": "rh2HbxdvBp99"
      },
      "outputs": [],
      "source": [
        "# load in the model which achieved 67.59% testing accuracy using 3 categories instead of 5 and also used the summarized text for training.\n",
        "model_fname = 'Ratings_BERT_Summary_3cat_run2'\n",
        "my_wd = '/content/drive/My Drive'\n",
        "\n",
        "model = tf.keras.models.load_model(os.path.join(my_wd, model_fname)) "
      ]
    },
    {
      "cell_type": "code",
      "execution_count": null,
      "metadata": {
        "colab": {
          "base_uri": "https://localhost:8080/"
        },
        "id": "77JM7Sdx3DuU",
        "outputId": "3f8d3c07-0fd8-420c-9a15-bf74d5ed113d"
      },
      "outputs": [
        {
          "name": "stdout",
          "output_type": "stream",
          "text": [
            "18750/18750 [==============================] - 612s 33ms/step\n",
            "              precision    recall  f1-score   support\n",
            "\n",
            "           1     0.6267    0.8794    0.7319     50000\n",
            "           2     0.7069    0.2363    0.3542     50000\n",
            "           3     0.6755    0.8528    0.7539     50000\n",
            "\n",
            "    accuracy                         0.6562    150000\n",
            "   macro avg     0.6697    0.6562    0.6133    150000\n",
            "weighted avg     0.6697    0.6562    0.6133    150000\n",
            "\n",
            "Testing Accuracy:  0.6562\n"
          ]
        }
      ],
      "source": [
        "from sklearn.metrics import classification_report\n",
        "from sklearn.metrics import accuracy_score\n",
        "\n",
        "y_pred = model.predict(X_test, batch_size=8, verbose=1)\n",
        "y_pred_bool = np.argmax(y_pred, axis=1) + 1\n",
        "print(classification_report(y, y_pred_bool, labels=[1,2,3], digits=4))\n",
        "loss, accuracy = model.evaluate(X_test, dummy_y_test, verbose=False)\n",
        "print(\"Testing Accuracy:  {:.4f}\".format(accuracy))"
      ]
    },
    {
      "cell_type": "code",
      "execution_count": null,
      "metadata": {
        "id": "ed6VCrkoFj8G"
      },
      "outputs": [],
      "source": [
        ""
      ]
    },
    {
      "cell_type": "code",
      "execution_count": null,
      "metadata": {
        "id": "DAGKBe-pFjxa"
      },
      "outputs": [],
      "source": [
        ""
      ]
    },
    {
      "cell_type": "code",
      "execution_count": null,
      "metadata": {
        "id": "xv_U2b-T3D1u"
      },
      "outputs": [],
      "source": [
        ""
      ]
    }
  ],
  "metadata": {
    "accelerator": "GPU",
    "colab": {
      "collapsed_sections": [],
      "machine_shape": "hm",
      "name": "Yelp_testing_3_categories_Summary.ipynb",
      "provenance": [],
      "include_colab_link": true
    },
    "kernelspec": {
      "display_name": "Python 3",
      "name": "python3"
    },
    "language_info": {
      "name": "python"
    }
  },
  "nbformat": 4,
  "nbformat_minor": 0
}