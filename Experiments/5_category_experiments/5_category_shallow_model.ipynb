{
  "cells": [
    {
      "cell_type": "markdown",
      "metadata": {
        "id": "view-in-github",
        "colab_type": "text"
      },
      "source": [
        "<a href=\"https://colab.research.google.com/github/AyazNakhudaGitHub/BERT_Customer_Reviews_Classification/blob/main/Experiments/5_category_experiments/5_category_shallow_model.ipynb\" target=\"_parent\"><img src=\"https://colab.research.google.com/assets/colab-badge.svg\" alt=\"Open In Colab\"/></a>"
      ]
    },
    {
      "cell_type": "markdown",
      "source": [
        "# **Long Review Texts, 5 Categories and Shallow Neural Network**"
      ],
      "metadata": {
        "id": "blpHzf8kll0x"
      }
    },
    {
      "cell_type": "markdown",
      "source": [
        "In this experiment, we utilize the long review texts and classify them into 5 categories. As well, a shallower nerual network is used in hopes of lowering the high variance as seen with the complexed initial models."
      ],
      "metadata": {
        "id": "D87pxl6gllv1"
      }
    },
    {
      "cell_type": "code",
      "execution_count": null,
      "metadata": {
        "colab": {
          "base_uri": "https://localhost:8080/"
        },
        "id": "DhtbgXdIHfAZ",
        "outputId": "2ad2df69-8cd4-47ef-87b6-3d0d2af35cb3"
      },
      "outputs": [
        {
          "name": "stdout",
          "output_type": "stream",
          "text": [
            "\u001b[K     |████████████████████████████████| 1.1 MB 4.1 MB/s \n",
            "\u001b[K     |████████████████████████████████| 213 kB 75.5 MB/s \n",
            "\u001b[K     |████████████████████████████████| 99 kB 11.2 MB/s \n",
            "\u001b[K     |████████████████████████████████| 47.6 MB 1.2 MB/s \n",
            "\u001b[K     |████████████████████████████████| 352 kB 72.9 MB/s \n",
            "\u001b[K     |████████████████████████████████| 1.1 MB 65.4 MB/s \n",
            "\u001b[K     |████████████████████████████████| 1.2 MB 71.5 MB/s \n",
            "\u001b[K     |████████████████████████████████| 43 kB 2.6 MB/s \n",
            "\u001b[K     |████████████████████████████████| 596 kB 56.7 MB/s \n",
            "\u001b[?25h  Building wheel for py-cpuinfo (setup.py) ... \u001b[?25l\u001b[?25hdone\n",
            "  Building wheel for seqeval (setup.py) ... \u001b[?25l\u001b[?25hdone\n"
          ]
        }
      ],
      "source": [
        "!pip install -q tf-models-official==2.4.0"
      ]
    },
    {
      "cell_type": "code",
      "execution_count": null,
      "metadata": {
        "colab": {
          "base_uri": "https://localhost:8080/"
        },
        "id": "J390iilTHi1q",
        "outputId": "2fe84cac-cffa-4232-fc49-21befa5586e3"
      },
      "outputs": [
        {
          "name": "stdout",
          "output_type": "stream",
          "text": [
            "\u001b[K     |████████████████████████████████| 4.9 MB 4.3 MB/s \n",
            "\u001b[?25h"
          ]
        }
      ],
      "source": [
        "!pip install -q -U tensorflow-text"
      ]
    },
    {
      "cell_type": "code",
      "execution_count": null,
      "metadata": {
        "id": "c0gusxCtHi4U"
      },
      "outputs": [],
      "source": [
        "import os\n",
        "import urllib, json\n",
        "\n",
        "import numpy as np\n",
        "import pandas as pd\n",
        "\n",
        "import tensorflow as tf\n",
        "import tensorflow_hub as hub\n",
        "import seaborn as sns\n",
        "from tensorflow.keras.utils import to_categorical\n",
        "\n",
        "import official.nlp.bert.bert_models\n",
        "import official.nlp.bert.configs\n",
        "import official.nlp.bert.run_classifier\n",
        "import official.nlp.bert.tokenization as tokenization\n",
        "\n",
        "from official.modeling import tf_utils\n",
        "from official import nlp\n",
        "from official.nlp import bert\n",
        "\n",
        "from sklearn.model_selection import train_test_split\n",
        "from sklearn.preprocessing import LabelEncoder\n",
        "\n",
        "import matplotlib.pyplot as plt"
      ]
    },
    {
      "cell_type": "code",
      "execution_count": null,
      "metadata": {
        "colab": {
          "base_uri": "https://localhost:8080/"
        },
        "id": "DXtqRRlyNy6f",
        "outputId": "49eeaa70-a25f-4212-ab04-1cb37edb6352"
      },
      "outputs": [
        {
          "data": {
            "text/plain": [
              "[name: \"/device:CPU:0\"\n",
              " device_type: \"CPU\"\n",
              " memory_limit: 268435456\n",
              " locality {\n",
              " }\n",
              " incarnation: 11841373125720261692\n",
              " xla_global_id: -1, name: \"/device:GPU:0\"\n",
              " device_type: \"GPU\"\n",
              " memory_limit: 16154099712\n",
              " locality {\n",
              "   bus_id: 1\n",
              "   links {\n",
              "   }\n",
              " }\n",
              " incarnation: 9395215849473424151\n",
              " physical_device_desc: \"device: 0, name: Tesla P100-PCIE-16GB, pci bus id: 0000:00:04.0, compute capability: 6.0\"\n",
              " xla_global_id: 416903419]"
            ]
          },
          "execution_count": 4,
          "metadata": {},
          "output_type": "execute_result"
        }
      ],
      "source": [
        "from tensorflow.python.client import device_lib\n",
        "device_lib.list_local_devices()"
      ]
    },
    {
      "cell_type": "markdown",
      "source": [
        "When running this notebook please make sure to follow the steps outlined in the readme file."
      ],
      "metadata": {
        "id": "o25uJT0JmTUL"
      }
    },
    {
      "cell_type": "code",
      "execution_count": null,
      "metadata": {
        "colab": {
          "base_uri": "https://localhost:8080/"
        },
        "id": "EVg68JJPHi65",
        "outputId": "a2048980-9bfc-42bf-9a7c-b3d1e1531d70"
      },
      "outputs": [
        {
          "name": "stdout",
          "output_type": "stream",
          "text": [
            "Mounted at /content/drive\n"
          ]
        }
      ],
      "source": [
        "from google.colab import drive\n",
        "drive.mount('/content/drive')"
      ]
    },
    {
      "cell_type": "markdown",
      "source": [
        "Below we are loading in the pre-trained BERT model."
      ],
      "metadata": {
        "id": "mh74UfermZse"
      }
    },
    {
      "cell_type": "code",
      "execution_count": null,
      "metadata": {
        "id": "6kYz0c0w7XSj"
      },
      "outputs": [],
      "source": [
        "bert_layer=hub.KerasLayer(\"https://tfhub.dev/tensorflow/bert_en_uncased_L-12_H-768_A-12/2\",trainable=True)"
      ]
    },
    {
      "cell_type": "code",
      "execution_count": null,
      "metadata": {
        "id": "AbOqYtz_HjAO"
      },
      "outputs": [],
      "source": [
        "vocab_file = bert_layer.resolved_object.vocab_file.asset_path.numpy()\n",
        "do_lower_case = bert_layer.resolved_object.do_lower_case.numpy()\n",
        "tokenizer = tokenization.FullTokenizer(vocab_file, do_lower_case)"
      ]
    },
    {
      "cell_type": "code",
      "execution_count": null,
      "metadata": {
        "colab": {
          "base_uri": "https://localhost:8080/"
        },
        "id": "y1jag3mqHjDO",
        "outputId": "cbf98321-2e37-4496-c4a8-4bfccce75505"
      },
      "outputs": [
        {
          "data": {
            "text/plain": [
              "[101, 102]"
            ]
          },
          "execution_count": 8,
          "metadata": {},
          "output_type": "execute_result"
        }
      ],
      "source": [
        "tokenizer.convert_tokens_to_ids(['[CLS]', '[SEP]'])"
      ]
    },
    {
      "cell_type": "code",
      "execution_count": null,
      "metadata": {
        "id": "wM4JpDYpHjHB"
      },
      "outputs": [],
      "source": [
        "data_2 = pd.read_pickle('/content/drive/MyDrive/small6.plk')"
      ]
    },
    {
      "cell_type": "code",
      "execution_count": null,
      "metadata": {
        "colab": {
          "base_uri": "https://localhost:8080/",
          "height": 466
        },
        "id": "VT61mlvmKKfy",
        "outputId": "11aa5dea-f6fd-493f-a02d-1167e166ffb5"
      },
      "outputs": [
        {
          "data": {
            "text/html": [
              "<div>\n",
              "<style scoped>\n",
              "    .dataframe tbody tr th:only-of-type {\n",
              "        vertical-align: middle;\n",
              "    }\n",
              "\n",
              "    .dataframe tbody tr th {\n",
              "        vertical-align: top;\n",
              "    }\n",
              "\n",
              "    .dataframe thead th {\n",
              "        text-align: right;\n",
              "    }\n",
              "</style>\n",
              "<table border=\"1\" class=\"dataframe\">\n",
              "  <thead>\n",
              "    <tr style=\"text-align: right;\">\n",
              "      <th></th>\n",
              "      <th>helpful</th>\n",
              "      <th>reviewText</th>\n",
              "      <th>overall</th>\n",
              "      <th>summary</th>\n",
              "    </tr>\n",
              "  </thead>\n",
              "  <tbody>\n",
              "    <tr>\n",
              "      <th>469</th>\n",
              "      <td>[5, 5]</td>\n",
              "      <td>First, this is a very cute machine. I bought t...</td>\n",
              "      <td>5</td>\n",
              "      <td>Easy,Fast and FUN!</td>\n",
              "    </tr>\n",
              "    <tr>\n",
              "      <th>532</th>\n",
              "      <td>[0, 1]</td>\n",
              "      <td>I love this machine.  A cousin had tried a cou...</td>\n",
              "      <td>5</td>\n",
              "      <td>Great little machine</td>\n",
              "    </tr>\n",
              "    <tr>\n",
              "      <th>796</th>\n",
              "      <td>[0, 1]</td>\n",
              "      <td>After making the purchase and using a few time...</td>\n",
              "      <td>2</td>\n",
              "      <td>Not For Us - Prefer Electric</td>\n",
              "    </tr>\n",
              "    <tr>\n",
              "      <th>955</th>\n",
              "      <td>[0, 0]</td>\n",
              "      <td>Since I didn't write at least 20 words the fir...</td>\n",
              "      <td>5</td>\n",
              "      <td>What else can one say about Vac Bags?</td>\n",
              "    </tr>\n",
              "    <tr>\n",
              "      <th>1039</th>\n",
              "      <td>[3, 4]</td>\n",
              "      <td>I can only give this a 3. Tools are to small-t...</td>\n",
              "      <td>3</td>\n",
              "      <td>Vacuum Cleaner</td>\n",
              "    </tr>\n",
              "    <tr>\n",
              "      <th>...</th>\n",
              "      <td>...</td>\n",
              "      <td>...</td>\n",
              "      <td>...</td>\n",
              "      <td>...</td>\n",
              "    </tr>\n",
              "    <tr>\n",
              "      <th>108385</th>\n",
              "      <td>[1, 1]</td>\n",
              "      <td>It is not quite 8&amp;#34; in diameter and 5&amp;#34; ...</td>\n",
              "      <td>3</td>\n",
              "      <td>Smaller than expected</td>\n",
              "    </tr>\n",
              "    <tr>\n",
              "      <th>108715</th>\n",
              "      <td>[0, 0]</td>\n",
              "      <td>I wanted to like this, I really did. I teach h...</td>\n",
              "      <td>3</td>\n",
              "      <td>So much potential....</td>\n",
              "    </tr>\n",
              "    <tr>\n",
              "      <th>108988</th>\n",
              "      <td>[0, 0]</td>\n",
              "      <td>When the Senseo pods became harder and harder ...</td>\n",
              "      <td>2</td>\n",
              "      <td>Pain in the neck...</td>\n",
              "    </tr>\n",
              "    <tr>\n",
              "      <th>109152</th>\n",
              "      <td>[0, 0]</td>\n",
              "      <td>I GOT THIS FOR MY WIFE SHE NEED A NEW ONE SHE ...</td>\n",
              "      <td>5</td>\n",
              "      <td>SWEET</td>\n",
              "    </tr>\n",
              "    <tr>\n",
              "      <th>109303</th>\n",
              "      <td>[2, 3]</td>\n",
              "      <td>My specialty is French cooking, &amp; I love makin...</td>\n",
              "      <td>5</td>\n",
              "      <td>GREAT PAN--------------BUY IT!</td>\n",
              "    </tr>\n",
              "  </tbody>\n",
              "</table>\n",
              "<p>500 rows × 4 columns</p>\n",
              "</div>"
            ],
            "text/plain": [
              "       helpful  ...                                summary\n",
              "469     [5, 5]  ...                     Easy,Fast and FUN!\n",
              "532     [0, 1]  ...                   Great little machine\n",
              "796     [0, 1]  ...           Not For Us - Prefer Electric\n",
              "955     [0, 0]  ...  What else can one say about Vac Bags?\n",
              "1039    [3, 4]  ...                         Vacuum Cleaner\n",
              "...        ...  ...                                    ...\n",
              "108385  [1, 1]  ...                  Smaller than expected\n",
              "108715  [0, 0]  ...                  So much potential....\n",
              "108988  [0, 0]  ...                    Pain in the neck...\n",
              "109152  [0, 0]  ...                                  SWEET\n",
              "109303  [2, 3]  ...         GREAT PAN--------------BUY IT!\n",
              "\n",
              "[500 rows x 4 columns]"
            ]
          },
          "execution_count": 7,
          "metadata": {},
          "output_type": "execute_result"
        }
      ],
      "source": [
        "data_2.head(500)"
      ]
    },
    {
      "cell_type": "code",
      "execution_count": null,
      "metadata": {
        "colab": {
          "base_uri": "https://localhost:8080/",
          "height": 285
        },
        "id": "pB4sGw5aHjJk",
        "outputId": "32405a18-f0ff-4416-8ea6-27c9665a87c9"
      },
      "outputs": [
        {
          "data": {
            "image/png": "[encoded data removed]",
            "text/plain": [
              "<Figure size 432x288 with 1 Axes>"
            ]
          },
          "metadata": {},
          "output_type": "display_data"
        }
      ],
      "source": [
        "sns.set_theme()\n",
        "ax = sns.countplot(x=\"overall\", data=data_2)"
      ]
    },
    {
      "cell_type": "code",
      "execution_count": null,
      "metadata": {
        "colab": {
          "base_uri": "https://localhost:8080/"
        },
        "id": "TBBdlE4rHjMQ",
        "outputId": "7061af8a-489e-4ed4-f9c4-5c7e2a49c68c"
      },
      "outputs": [
        {
          "name": "stdout",
          "output_type": "stream",
          "text": [
            "<class 'pandas.core.frame.DataFrame'>\n",
            "Int64Index: 43659 entries, 469 to 7589996\n",
            "Data columns (total 4 columns):\n",
            " #   Column      Non-Null Count  Dtype \n",
            "---  ------      --------------  ----- \n",
            " 0   helpful     43659 non-null  object\n",
            " 1   reviewText  43659 non-null  object\n",
            " 2   overall     43659 non-null  int64 \n",
            " 3   summary     43659 non-null  object\n",
            "dtypes: int64(1), object(3)\n",
            "memory usage: 2.9+ MB\n"
          ]
        }
      ],
      "source": [
        "data_2.info()"
      ]
    },
    {
      "cell_type": "code",
      "execution_count": null,
      "metadata": {
        "id": "otPHpHaU5mJx"
      },
      "outputs": [],
      "source": [
        "np.random.seed(10)\n",
        "remove_n = 59\n",
        "index_to_remove = data_2[data_2.overall == 5].index\n",
        "drop_indices = np.random.choice(index_to_remove, remove_n, replace=False)\n",
        "data_2 = data_2.drop(drop_indices)"
      ]
    },
    {
      "cell_type": "code",
      "execution_count": null,
      "metadata": {
        "colab": {
          "base_uri": "https://localhost:8080/"
        },
        "id": "gbmS9-jv8DbF",
        "outputId": "7b9b5c65-576e-4b9e-d08c-4a596cfb6ff3"
      },
      "outputs": [
        {
          "name": "stdout",
          "output_type": "stream",
          "text": [
            "<class 'pandas.core.frame.DataFrame'>\n",
            "Int64Index: 43600 entries, 469 to 7589996\n",
            "Data columns (total 4 columns):\n",
            " #   Column      Non-Null Count  Dtype \n",
            "---  ------      --------------  ----- \n",
            " 0   helpful     43600 non-null  object\n",
            " 1   reviewText  43600 non-null  object\n",
            " 2   overall     43600 non-null  int64 \n",
            " 3   summary     43600 non-null  object\n",
            "dtypes: int64(1), object(3)\n",
            "memory usage: 1.7+ MB\n"
          ]
        }
      ],
      "source": [
        "data_2.info()"
      ]
    },
    {
      "cell_type": "code",
      "execution_count": null,
      "metadata": {
        "id": "yGbHu5Cs5RZ1"
      },
      "outputs": [],
      "source": [
        "sample_size = int(len(data_2)*0.3)\n",
        "sampleDf = data_2.sample(sample_size, random_state=23)\n",
        "x = sampleDf.reviewText.values\n",
        "y = sampleDf.overall.values\n",
        "x_train, x_val, y_train, y_val = train_test_split(x, y, test_size=0.20, random_state=32)"
      ]
    },
    {
      "cell_type": "code",
      "execution_count": null,
      "metadata": {
        "colab": {
          "base_uri": "https://localhost:8080/"
        },
        "id": "5rHRiMK2gc8X",
        "outputId": "62d8199d-250d-4c89-f409-9b63f6df1568"
      },
      "outputs": [
        {
          "name": "stdout",
          "output_type": "stream",
          "text": [
            "(10464,)\n"
          ]
        }
      ],
      "source": [
        "print(x_train.shape)"
      ]
    },
    {
      "cell_type": "code",
      "execution_count": null,
      "metadata": {
        "cellView": "code",
        "id": "lhfL5VezHjRx"
      },
      "outputs": [],
      "source": [
        "encoder = LabelEncoder()\n",
        "encoder.fit(y)\n",
        "encoded_Y_val = encoder.transform(y_val)\n",
        "encoded_Y_train = encoder.transform(y_train)\n",
        "\n",
        "# convert integers to dummy variables (i.e. one hot encoded)\n",
        "dummy_y_val = to_categorical(encoded_Y_val)\n",
        "dummy_y_train = to_categorical(encoded_Y_train)"
      ]
    },
    {
      "cell_type": "markdown",
      "source": [
        "The tokenization along with the head+tail tokens selection is done below:"
      ],
      "metadata": {
        "id": "MbM8r7t4munJ"
      }
    },
    {
      "cell_type": "code",
      "execution_count": null,
      "metadata": {
        "cellView": "code",
        "id": "SjtwdQ6iIAJE"
      },
      "outputs": [],
      "source": [
        "\n",
        "def encode_names(n):\n",
        "   tokens = list(tokenizer.tokenize(n)[:127]+tokenizer.tokenize(n)[-381:])\n",
        "   tokens.append('[SEP]')\n",
        "   return tokenizer.convert_tokens_to_ids(tokens)\n",
        "\n",
        "reviews = tf.ragged.constant([\n",
        "    encode_names(n) for n in x_train])"
      ]
    },
    {
      "cell_type": "code",
      "execution_count": null,
      "metadata": {
        "cellView": "code",
        "colab": {
          "base_uri": "https://localhost:8080/"
        },
        "id": "TM3ORRT8IAMM",
        "outputId": "c0781763-f561-49a7-9d1a-0f392b6579e6"
      },
      "outputs": [
        {
          "name": "stdout",
          "output_type": "stream",
          "text": [
            "Tokenized reviews shape [10464, None]\n"
          ]
        }
      ],
      "source": [
        "print('Tokenized reviews shape', reviews.shape.as_list())"
      ]
    },
    {
      "cell_type": "code",
      "execution_count": null,
      "metadata": {
        "colab": {
          "base_uri": "https://localhost:8080/",
          "height": 54
        },
        "id": "lwN6dFKRIAOg",
        "outputId": "0a881d50-e19b-4b50-e274-1b65c53b36a2"
      },
      "outputs": [
        {
          "data": {
            "application/vnd.google.colaboratory.intrinsic+json": {
              "type": "string"
            },
            "text/plain": [
              "\"Don't get me wrong, it does take the makeup right off your face. However as others mentioned, it does leave a thickish film on your face. I've been using the product for only a few days and have noticed tiny pimples that I have in regions where I NEVER break out usually. I'm unsure if it's just a common breakout or if these wipes caused it.\""
            ]
          },
          "execution_count": 87,
          "metadata": {},
          "output_type": "execute_result"
        }
      ],
      "source": [
        "x_train[0]"
      ]
    },
    {
      "cell_type": "code",
      "execution_count": null,
      "metadata": {
        "cellView": "code",
        "id": "N_N4q-k5IAQ1"
      },
      "outputs": [],
      "source": [
        "\n",
        "cls = [tokenizer.convert_tokens_to_ids(['[CLS]'])]*reviews.shape[0]\n",
        "input_word_ids = tf.concat([cls, reviews], axis=-1)\n",
        "#_ = plt.pcolormesh(input_word_ids[0:10].to_tensor())"
      ]
    },
    {
      "cell_type": "code",
      "execution_count": null,
      "metadata": {
        "cellView": "code",
        "id": "h_xMAyATIAUk"
      },
      "outputs": [],
      "source": [
        "\n",
        "input_mask = tf.ones_like(input_word_ids).to_tensor()\n",
        "#plt.pcolormesh(input_mask)"
      ]
    },
    {
      "cell_type": "code",
      "execution_count": null,
      "metadata": {
        "cellView": "code",
        "id": "QD9O1o3GIAXG"
      },
      "outputs": [],
      "source": [
        "\n",
        "type_cls = tf.zeros_like(cls)\n",
        "type_review = tf.ones_like(reviews)\n",
        "input_type_ids = tf.concat([type_cls, type_review], axis=-1).to_tensor()\n",
        "#plt.pcolormesh(input_type_ids)"
      ]
    },
    {
      "cell_type": "code",
      "execution_count": null,
      "metadata": {
        "cellView": "code",
        "id": "RESnwaAIIAal"
      },
      "outputs": [],
      "source": [
        "lens = [len(i) for i in input_word_ids]\n",
        "#max_seq_length = max(lens)\n",
        "#print('Max length is:', max_seq_length)"
      ]
    },
    {
      "cell_type": "code",
      "execution_count": null,
      "metadata": {
        "id": "G4U7BVYnZ4Qm"
      },
      "outputs": [],
      "source": [
        "#max_seq_length = int(1.5*max_seq_length)\n",
        "#print('Max length is:', max_seq_length)"
      ]
    },
    {
      "cell_type": "code",
      "execution_count": null,
      "metadata": {
        "cellView": "code",
        "id": "WtVjDdAhIAkL"
      },
      "outputs": [],
      "source": [
        "\n",
        "def encode_names(n, tokenizer):\n",
        "   tokens = list(tokenizer.tokenize(n))\n",
        "   tokens.append('[SEP]')\n",
        "   return tokenizer.convert_tokens_to_ids(tokens)\n",
        "\n",
        "def bert_encode(string_list, tokenizer, max_seq_length):\n",
        "  num_examples = len(string_list)\n",
        "  \n",
        "  string_tokens = tf.ragged.constant([\n",
        "      encode_names(n, tokenizer) for n in np.array(string_list)])\n",
        "\n",
        "  cls = [tokenizer.convert_tokens_to_ids(['[CLS]'])]*string_tokens.shape[0]\n",
        "  input_word_ids = tf.concat([cls, string_tokens], axis=-1)\n",
        "\n",
        "  input_mask = tf.ones_like(input_word_ids).to_tensor(shape=(None, max_seq_length))\n",
        "\n",
        "  type_cls = tf.zeros_like(cls)\n",
        "  type_tokens = tf.ones_like(string_tokens)\n",
        "  input_type_ids = tf.concat(\n",
        "      [type_cls, type_tokens], axis=-1).to_tensor(shape=(None, max_seq_length))\n",
        "\n",
        "\n",
        "\n",
        "  inputs = {\n",
        "      'input_word_ids': input_word_ids.to_tensor(shape=(None, max_seq_length)),\n",
        "      'input_mask': input_mask,\n",
        "      'input_type_ids': input_type_ids}\n",
        "\n",
        "  return inputs"
      ]
    },
    {
      "cell_type": "code",
      "execution_count": null,
      "metadata": {
        "id": "ziCpcBsAV-dD"
      },
      "outputs": [],
      "source": [
        "max_seq_length = 512\n"
      ]
    },
    {
      "cell_type": "code",
      "execution_count": null,
      "metadata": {
        "cellView": "code",
        "id": "7B0VXSODIAoF"
      },
      "outputs": [],
      "source": [
        "\n",
        "X_train = bert_encode(x_train, tokenizer, max_seq_length)    \n",
        "X_val = bert_encode(x_val, tokenizer, max_seq_length)"
      ]
    },
    {
      "cell_type": "code",
      "execution_count": null,
      "metadata": {
        "id": "TY6n4c6KIlrK"
      },
      "outputs": [],
      "source": [
        "epochs = 6 \n",
        "batch_size = 8 \n",
        "eval_batch_size = batch_size\n",
        "LR = 2e-6\n",
        "\n",
        "train_data_size = len(y_train)\n",
        "steps_per_epoch = int(train_data_size / batch_size)\n",
        "num_train_steps = steps_per_epoch * epochs\n",
        "warmup_steps = int(epochs * train_data_size * 0.1 / batch_size)"
      ]
    },
    {
      "cell_type": "code",
      "execution_count": null,
      "metadata": {
        "id": "E1bB0c6dHjUR"
      },
      "outputs": [],
      "source": [
        "\n",
        "input_word_ids = tf.keras.layers.Input(shape=(max_seq_length,), dtype=tf.int32,\n",
        "                                       name=\"input_word_ids\")\n",
        "input_mask = tf.keras.layers.Input(shape=(max_seq_length,), dtype=tf.int32,\n",
        "                                   name=\"input_mask\")\n",
        "segment_ids = tf.keras.layers.Input(shape=(max_seq_length,), dtype=tf.int32,\n",
        "                                    name=\"segment_ids\")\n",
        "\n",
        "pooled_output, sequence_output = bert_layer([input_word_ids, input_mask, segment_ids])                                 \n",
        "\n",
        "\n",
        "pooled_output, sequence_output = bert_layer([input_word_ids, input_mask, segment_ids])                                  \n",
        "output = tf.keras.layers.Dropout(rate=0.1)(pooled_output)\n",
        "output = tf.keras.layers.Dense(512, kernel_regularizer= tf.keras.regularizers.L2(0.01), activity_regularizer= tf.keras.regularizers.L1(0.01),activation='relu')(output)\n",
        "output = tf.keras.layers.Dense(5, activation='softmax', name='output')(output)\n",
        "\n",
        "model = tf.keras.Model(\n",
        "    inputs={\n",
        "        'input_word_ids': input_word_ids,\n",
        "        'input_mask': input_mask,\n",
        "        'input_type_ids': segment_ids\n",
        "        },\n",
        "        outputs=output)\n"
      ]
    },
    {
      "cell_type": "code",
      "execution_count": null,
      "metadata": {
        "colab": {
          "base_uri": "https://localhost:8080/"
        },
        "id": "82jOlJa2zyjx",
        "outputId": "7899ab61-7096-49e9-eec8-f2470e6afa1a"
      },
      "outputs": [
        {
          "data": {
            "text/plain": [
              "<KerasTensor: shape=(None, 768) dtype=float32 (created by layer 'keras_layer')>"
            ]
          },
          "execution_count": 71,
          "metadata": {},
          "output_type": "execute_result"
        }
      ],
      "source": [
        "pooled_output"
      ]
    },
    {
      "cell_type": "code",
      "execution_count": null,
      "metadata": {
        "id": "Gkb4gQOccQFt"
      },
      "outputs": [],
      "source": [
        "import tensorflow_addons as tfa"
      ]
    },
    {
      "cell_type": "code",
      "execution_count": null,
      "metadata": {
        "id": "qZpXvrb6Ilt3"
      },
      "outputs": [],
      "source": [
        "model.compile(tfa.optimizers.RectifiedAdam(learning_rate=LR, beta_1= 0.8, beta_2=0.8), # try sgd  \n",
        "              loss='categorical_crossentropy',\n",
        "              metrics=['accuracy'],\n",
        "  \n",
        "              )"
      ]
    },
    {
      "cell_type": "code",
      "execution_count": null,
      "metadata": {
        "colab": {
          "base_uri": "https://localhost:8080/",
          "height": 275
        },
        "id": "SYjdnTubHjW7",
        "outputId": "1342b7e7-a0b0-4a8a-fdd0-453c914807c5"
      },
      "outputs": [
        {
          "data": {
            "image/png": "[encoded data removed]",
            "text/plain": [
              "<IPython.core.display.Image object>"
            ]
          },
          "execution_count": 97,
          "metadata": {},
          "output_type": "execute_result"
        }
      ],
      "source": [
        "tf.keras.utils.plot_model(model, show_shapes=True, dpi=48)"
      ]
    },
    {
      "cell_type": "code",
      "execution_count": null,
      "metadata": {
        "colab": {
          "base_uri": "https://localhost:8080/"
        },
        "id": "CQF3dhgUIlw3",
        "outputId": "8faf07f4-dcdc-4ca8-bdcb-6cedce9db6ba"
      },
      "outputs": [
        {
          "name": "stdout",
          "output_type": "stream",
          "text": [
            "Model: \"model_2\"\n",
            "__________________________________________________________________________________________________\n",
            "Layer (type)                    Output Shape         Param #     Connected to                     \n",
            "==================================================================================================\n",
            "input_word_ids (InputLayer)     [(None, 512)]        0                                            \n",
            "__________________________________________________________________________________________________\n",
            "input_mask (InputLayer)         [(None, 512)]        0                                            \n",
            "__________________________________________________________________________________________________\n",
            "segment_ids (InputLayer)        [(None, 512)]        0                                            \n",
            "__________________________________________________________________________________________________\n",
            "keras_layer (KerasLayer)        [(None, 768), (None, 109482241   input_word_ids[0][0]             \n",
            "                                                                 input_mask[0][0]                 \n",
            "                                                                 segment_ids[0][0]                \n",
            "__________________________________________________________________________________________________\n",
            "dropout_2 (Dropout)             (None, 768)          0           keras_layer[6][0]                \n",
            "__________________________________________________________________________________________________\n",
            "dense_7 (Dense)                 (None, 512)          393728      dropout_2[0][0]                  \n",
            "__________________________________________________________________________________________________\n",
            "output (Dense)                  (None, 5)            2565        dense_7[0][0]                    \n",
            "==================================================================================================\n",
            "Total params: 109,878,534\n",
            "Trainable params: 109,878,533\n",
            "Non-trainable params: 1\n",
            "__________________________________________________________________________________________________\n"
          ]
        }
      ],
      "source": [
        "model.summary()"
      ]
    },
    {
      "cell_type": "code",
      "execution_count": null,
      "metadata": {
        "colab": {
          "base_uri": "https://localhost:8080/"
        },
        "id": "erV6rnEZIlzj",
        "outputId": "b6db072d-f5c0-48e8-a6d5-8da178739026"
      },
      "outputs": [
        {
          "name": "stdout",
          "output_type": "stream",
          "text": [
            "Epoch 1/6\n",
            "1308/1308 [==============================] - 906s 642ms/step - loss: 7.6129 - accuracy: 0.8008 - val_loss: 6.9961 - val_accuracy: 0.8142\n",
            "Epoch 2/6\n",
            "1308/1308 [==============================] - 839s 641ms/step - loss: 6.6900 - accuracy: 0.8595 - val_loss: 6.4927 - val_accuracy: 0.8165\n",
            "Epoch 3/6\n",
            "1308/1308 [==============================] - 839s 641ms/step - loss: 6.1615 - accuracy: 0.8825 - val_loss: 6.0512 - val_accuracy: 0.8184\n",
            "Epoch 4/6\n",
            "1308/1308 [==============================] - 839s 641ms/step - loss: 5.6660 - accuracy: 0.9018 - val_loss: 5.6340 - val_accuracy: 0.8184\n",
            "Epoch 5/6\n",
            "1308/1308 [==============================] - 839s 641ms/step - loss: 5.1881 - accuracy: 0.9136 - val_loss: 5.2018 - val_accuracy: 0.8146\n",
            "Epoch 6/6\n",
            "1308/1308 [==============================] - 838s 641ms/step - loss: 4.7229 - accuracy: 0.9255 - val_loss: 4.7971 - val_accuracy: 0.8177\n"
          ]
        }
      ],
      "source": [
        "history = model.fit(X_train,\n",
        "                    dummy_y_train,\n",
        "                    epochs=epochs,\n",
        "                    batch_size=batch_size,\n",
        "                    validation_data=(X_val, dummy_y_test),\n",
        "                    verbose=1)"
      ]
    },
    {
      "cell_type": "code",
      "execution_count": null,
      "metadata": {
        "colab": {
          "base_uri": "https://localhost:8080/"
        },
        "id": "MaNdHEwmIl2W",
        "outputId": "118d8d3e-f3bf-4bc3-db19-f4b47399e5ab"
      },
      "outputs": [
        {
          "name": "stdout",
          "output_type": "stream",
          "text": [
            "Training Accuracy: 0.9515\n",
            "Testing Accuracy:  0.8177\n"
          ]
        }
      ],
      "source": [
        "loss, accuracy = model.evaluate(X_train, dummy_y_train, verbose=False)\n",
        "print(\"Training Accuracy: {:.4f}\".format(accuracy))\n",
        "loss, accuracy = model.evaluate(X_val, dummy_y_val, verbose=False)\n",
        "print(\"Testing Accuracy:  {:.4f}\".format(accuracy))"
      ]
    },
    {
      "cell_type": "code",
      "execution_count": null,
      "metadata": {
        "id": "oDIZiwcBIl6I"
      },
      "outputs": [],
      "source": [
        "plt.style.use('ggplot')\n",
        "\n",
        "def plot_history(history):\n",
        "    acc = history.history['accuracy']\n",
        "    val_acc = history.history['val_accuracy']\n",
        "    loss = history.history['loss']\n",
        "    val_loss = history.history['val_loss']\n",
        "    x = range(1, len(acc) + 1)\n",
        "\n",
        "    plt.figure(figsize=(12, 5))\n",
        "    plt.subplot(1, 2, 1)\n",
        "    plt.plot(x, acc, 'b', label='Training acc')\n",
        "    plt.plot(x, val_acc, 'r', label='Validation acc')\n",
        "    plt.title('Training and validation accuracy')\n",
        "    plt.legend()\n",
        "    plt.subplot(1, 2, 2)\n",
        "    plt.plot(x, loss, 'b', label='Training loss')\n",
        "    plt.plot(x, val_loss, 'r', label='Validation loss')\n",
        "    plt.title('Training and validation loss')\n",
        "    plt.legend()"
      ]
    },
    {
      "cell_type": "code",
      "execution_count": null,
      "metadata": {
        "colab": {
          "base_uri": "https://localhost:8080/",
          "height": 339
        },
        "id": "xZdDErM7JFez",
        "outputId": "fa48bd7e-a355-4ebc-81e9-7f03aa525728"
      },
      "outputs": [
        {
          "data": {
            "image/png": "[encoded data removed]",
            "text/plain": [
              "<Figure size 864x360 with 2 Axes>"
            ]
          },
          "metadata": {},
          "output_type": "display_data"
        }
      ],
      "source": [
        "plot_history(history)"
      ]
    },
    {
      "cell_type": "markdown",
      "source": [
        "Below, the model saved for thos experiment is loaded in. We also load in more data (that was NOT present in the dataset already loaded in) for testing purposes."
      ],
      "metadata": {
        "id": "Lazht6hYnR54"
      }
    },
    {
      "cell_type": "code",
      "execution_count": null,
      "metadata": {
        "colab": {
          "base_uri": "https://localhost:8080/"
        },
        "id": "8ti9Xc_nJFk4",
        "outputId": "e5ba73b6-2d4e-4354-a1a9-261f0d18f62d"
      },
      "outputs": [
        {
          "name": "stderr",
          "output_type": "stream",
          "text": [
            "WARNING:absl:Found untraced functions such as restored_function_body, restored_function_body, restored_function_body, restored_function_body, restored_function_body while saving (showing 5 of 945). These functions will not be directly callable after loading.\n"
          ]
        },
        {
          "name": "stdout",
          "output_type": "stream",
          "text": [
            "INFO:tensorflow:Assets written to: /content/drive/My Drive/Ratings_BERT_7/assets\n"
          ]
        },
        {
          "name": "stderr",
          "output_type": "stream",
          "text": [
            "INFO:tensorflow:Assets written to: /content/drive/My Drive/Ratings_BERT_7/assets\n"
          ]
        }
      ],
      "source": [
        "model_fname = 'Ratings_BERT_7'\n",
        "my_wd = '/content/drive/My Drive'\n",
        "\n",
        "model.save(os.path.join(my_wd, model_fname))"
      ]
    },
    {
      "cell_type": "code",
      "execution_count": null,
      "metadata": {
        "id": "X-8elIAXVyjR"
      },
      "outputs": [],
      "source": [
        "new_model = tf.keras.models.load_model(os.path.join(my_wd, model_fname))"
      ]
    },
    {
      "cell_type": "code",
      "execution_count": null,
      "metadata": {
        "colab": {
          "base_uri": "https://localhost:8080/"
        },
        "id": "Ve_EdCvUJFtJ",
        "outputId": "950a91ab-b9ca-4906-96c0-f0848b7b18f2"
      },
      "outputs": [
        {
          "name": "stdout",
          "output_type": "stream",
          "text": [
            "Testing Accuracy:  0.8177\n"
          ]
        }
      ],
      "source": [
        "loss, accuracy = new_model.evaluate(X_test, dummy_y_test, verbose=False)\n",
        "print(\"Testing Accuracy:  {:.4f}\".format(accuracy))"
      ]
    },
    {
      "cell_type": "code",
      "execution_count": null,
      "metadata": {
        "id": "kNvN16IEHjZt"
      },
      "outputs": [],
      "source": [
        "tokenizerSaved = bert.tokenization.FullTokenizer(\n",
        "    vocab_file=os.path.join(my_wd, model_fname, 'assets/vocab.txt'),\n",
        "    do_lower_case=False)"
      ]
    },
    {
      "cell_type": "code",
      "execution_count": null,
      "metadata": {
        "colab": {
          "base_uri": "https://localhost:8080/"
        },
        "id": "RwkcplL-JP_v",
        "outputId": "2a03097d-f0a7-4113-ac99-e8c0818f0d4d"
      },
      "outputs": [
        {
          "name": "stdout",
          "output_type": "stream",
          "text": [
            "[UNK] [100]\n",
            "' [1005]\n",
            "t [1056]\n",
            "get [2131]\n",
            "me [2033]\n",
            "wrong [3308]\n",
            ", [1010]\n",
            "it [2009]\n",
            "does [2515]\n",
            "take [2202]\n",
            "the [1996]\n",
            "makeup [5789]\n",
            "right [2157]\n",
            "off [2125]\n",
            "your [2115]\n",
            "face [2227]\n",
            ". [1012]\n",
            "[UNK] [100]\n",
            "as [2004]\n",
            "others [2500]\n",
            "mentioned [3855]\n",
            ", [1010]\n",
            "it [2009]\n",
            "does [2515]\n",
            "leave [2681]\n",
            "a [1037]\n",
            "thick [4317]\n",
            "##ish [4509]\n",
            "film [2143]\n",
            "on [2006]\n",
            "your [2115]\n",
            "face [2227]\n",
            ". [1012]\n",
            "[UNK] [100]\n",
            "' [1005]\n",
            "ve [2310]\n",
            "been [2042]\n",
            "using [2478]\n",
            "the [1996]\n",
            "product [4031]\n",
            "for [2005]\n",
            "only [2069]\n",
            "a [1037]\n",
            "few [2261]\n",
            "days [2420]\n",
            "and [1998]\n",
            "have [2031]\n",
            "noticed [4384]\n",
            "tiny [4714]\n",
            "pi [14255]\n",
            "##mple [23344]\n",
            "##s [2015]\n",
            "that [2008]\n",
            "[UNK] [100]\n",
            "have [2031]\n",
            "in [1999]\n",
            "regions [4655]\n",
            "where [2073]\n",
            "[UNK] [100]\n",
            "[UNK] [100]\n",
            "break [3338]\n",
            "out [2041]\n",
            "usually [2788]\n",
            ". [1012]\n",
            "[UNK] [100]\n",
            "' [1005]\n",
            "m [1049]\n",
            "unsure [12422]\n",
            "if [2065]\n",
            "it [2009]\n",
            "' [1005]\n",
            "s [1055]\n",
            "just [2074]\n",
            "a [1037]\n",
            "common [2691]\n",
            "breakout [25129]\n",
            "or [2030]\n",
            "if [2065]\n",
            "these [2122]\n",
            "wipe [13387]\n",
            "##s [2015]\n",
            "caused [3303]\n",
            "it [2009]\n",
            ". [1012]\n"
          ]
        }
      ],
      "source": [
        "tokenizedTweet = tokenizerSaved.tokenize(x_train[0])\n",
        "for i in tokenizedTweet:\n",
        "  print(i, tokenizerSaved.convert_tokens_to_ids([i]))"
      ]
    },
    {
      "cell_type": "code",
      "execution_count": null,
      "metadata": {
        "id": "H23DCTdZ_Ng1"
      },
      "outputs": [],
      "source": [
        "bert_layer=hub.KerasLayer(\"https://tfhub.dev/tensorflow/bert_en_uncased_L-12_H-768_A-12/2\",trainable=True)\n",
        "vocab_file = bert_layer.resolved_object.vocab_file.asset_path.numpy()\n",
        "do_lower_case = bert_layer.resolved_object.do_lower_case.numpy()\n",
        "tokenizer = tokenization.FullTokenizer(vocab_file, do_lower_case)"
      ]
    },
    {
      "cell_type": "code",
      "execution_count": null,
      "metadata": {
        "id": "3cCDcNleoSr2"
      },
      "outputs": [],
      "source": [
        "merged = pd.read_pickle('/content/drive/MyDrive/model 14/model_14_merged_data')"
      ]
    },
    {
      "cell_type": "code",
      "execution_count": null,
      "metadata": {
        "colab": {
          "base_uri": "https://localhost:8080/",
          "height": 306
        },
        "id": "HXaiEPFeAkug",
        "outputId": "385a6857-5060-45c8-d842-13d5d798b51d"
      },
      "outputs": [
        {
          "data": {
            "image/png": "[encoded data removed]",
            "text/plain": [
              "<Figure size 432x288 with 1 Axes>"
            ]
          },
          "metadata": {},
          "output_type": "display_data"
        }
      ],
      "source": [
        "sns.set_theme()\n",
        "ax = sns.countplot(x=\"overall\", data=merged)"
      ]
    },
    {
      "cell_type": "code",
      "execution_count": null,
      "metadata": {
        "id": "gpVrFcp7oSxk"
      },
      "outputs": [],
      "source": [
        "# getting the 1's \n",
        "np.random.seed(10)\n",
        "get_n = 2400\n",
        "index_to_get = merged[merged.overall == 1].index\n",
        "get_indices_a = np.random.choice(index_to_get, get_n, replace=False)\n",
        "data_a = merged.loc[get_indices_a]\n",
        "\n",
        "\n",
        "# getting the 2's\n",
        "np.random.seed(10)\n",
        "get_n = 2400\n",
        "index_to_get = merged[merged.overall == 2].index\n",
        "get_indices_b = np.random.choice(index_to_get, get_n, replace=False)\n",
        "data_b = merged.loc[get_indices_b]\n",
        "\n",
        "# getting the 3's\n",
        "np.random.seed(10)\n",
        "get_n = 2400\n",
        "index_to_get = merged[merged.overall == 3].index\n",
        "get_indices_c = np.random.choice(index_to_get, get_n, replace=False)\n",
        "data_c = merged.loc[get_indices_c]\n",
        "\n",
        "# getting the 4's \n",
        "np.random.seed(10)\n",
        "get_n = 2400\n",
        "index_to_get = merged[merged.overall == 4].index\n",
        "get_indices_d = np.random.choice(index_to_get, get_n, replace=False)\n",
        "data_d = merged.loc[get_indices_d]\n",
        "\n",
        "# getting the 5's\n",
        "np.random.seed(10)\n",
        "get_n = 2400\n",
        "index_to_get = merged[merged.overall == 5].index\n",
        "get_indices_e = np.random.choice(index_to_get, get_n, replace=False)\n",
        "data_e = merged.loc[get_indices_e]"
      ]
    },
    {
      "cell_type": "code",
      "execution_count": null,
      "metadata": {
        "id": "s0KUiuXCoS1F"
      },
      "outputs": [],
      "source": [
        "drop_indicies = np.concatenate((get_indices_a,get_indices_b,get_indices_c,get_indices_d,get_indices_e),axis=0)\n",
        "merged = merged.drop(drop_indicies, axis=0)"
      ]
    },
    {
      "cell_type": "code",
      "execution_count": null,
      "metadata": {
        "id": "3kv3yl1soS4P"
      },
      "outputs": [],
      "source": [
        "new_data = pd.concat([data_a, data_b, data_c, data_d, data_e])"
      ]
    },
    {
      "cell_type": "code",
      "execution_count": null,
      "metadata": {
        "colab": {
          "base_uri": "https://localhost:8080/",
          "height": 307
        },
        "id": "I7d4XTu39gGx",
        "outputId": "f55388a5-39b8-416d-9895-6d5cd8af6829"
      },
      "outputs": [
        {
          "data": {
            "image/png": "[encoded data removed]",
            "text/plain": [
              "<Figure size 432x288 with 1 Axes>"
            ]
          },
          "metadata": {},
          "output_type": "display_data"
        }
      ],
      "source": [
        "sns.set_theme()\n",
        "ax = sns.countplot(x=\"overall\", data=new_data)"
      ]
    },
    {
      "cell_type": "code",
      "execution_count": null,
      "metadata": {
        "id": "zPoM4ywRoS7k"
      },
      "outputs": [],
      "source": [
        "from sklearn.utils import shuffle # shuffling the new data set\n",
        "new_data = shuffle(new_data)\n",
        "new_data.reset_index(inplace=True, drop=True)"
      ]
    },
    {
      "cell_type": "code",
      "execution_count": null,
      "metadata": {
        "id": "KTwFhgBJoS_M"
      },
      "outputs": [],
      "source": [
        "import sklearn\n",
        "\n",
        "\n",
        "x_test = new_data.reviewText.values\n",
        "y_test = new_data.overall.values\n",
        "\n"
      ]
    },
    {
      "cell_type": "code",
      "execution_count": null,
      "metadata": {
        "id": "lQnctFIKzwZb"
      },
      "outputs": [],
      "source": [
        "#need to do the encoding (text-preprocessing)"
      ]
    },
    {
      "cell_type": "code",
      "execution_count": null,
      "metadata": {
        "id": "6thFKVZI8kgu"
      },
      "outputs": [],
      "source": [
        "encoder = LabelEncoder()\n",
        "encoder.fit(y_test)\n",
        "\n",
        "encoded_Y_test = encoder.transform(y_test)\n",
        "dummy_y_test = to_categorical(encoded_Y_test)\n"
      ]
    },
    {
      "cell_type": "code",
      "execution_count": null,
      "metadata": {
        "id": "kDBy6vhGAl75"
      },
      "outputs": [],
      "source": [
        "def encode_names(n, tokenizer):\n",
        "   tokens = list(tokenizer.tokenize(n))\n",
        "   tokens.append('[SEP]')\n",
        "   return tokenizer.convert_tokens_to_ids(tokens)\n",
        "\n",
        "def bert_encode(string_list, tokenizer, max_seq_length):\n",
        "  num_examples = len(string_list)\n",
        "  \n",
        "  string_tokens = tf.ragged.constant([\n",
        "      encode_names(n, tokenizer) for n in np.array(string_list)])\n",
        "\n",
        "  cls = [tokenizer.convert_tokens_to_ids(['[CLS]'])]*string_tokens.shape[0]\n",
        "  input_word_ids = tf.concat([cls, string_tokens], axis=-1)\n",
        "\n",
        "  input_mask = tf.ones_like(input_word_ids).to_tensor(shape=(None, max_seq_length))\n",
        "\n",
        "  type_cls = tf.zeros_like(cls)\n",
        "  type_tokens = tf.ones_like(string_tokens)\n",
        "  input_type_ids = tf.concat(\n",
        "      [type_cls, type_tokens], axis=-1).to_tensor(shape=(None, max_seq_length))\n",
        "\n",
        "\n",
        "\n",
        "  inputs = {\n",
        "      'input_word_ids': input_word_ids.to_tensor(shape=(None, max_seq_length)),\n",
        "      'input_mask': input_mask,\n",
        "      'input_type_ids': input_type_ids}\n",
        "\n",
        "  return inputs\n",
        "  \n",
        "  "
      ]
    },
    {
      "cell_type": "code",
      "execution_count": null,
      "metadata": {
        "id": "WxjFd4k8_oR3"
      },
      "outputs": [],
      "source": [
        "max_seq_length = 512"
      ]
    },
    {
      "cell_type": "code",
      "execution_count": null,
      "metadata": {
        "id": "LLSPVn4NAojz"
      },
      "outputs": [],
      "source": [
        " \n",
        "X_test = bert_encode(x_test, tokenizer, max_seq_length)\n"
      ]
    },
    {
      "cell_type": "code",
      "execution_count": null,
      "metadata": {
        "id": "qxAvo0NgoTC3"
      },
      "outputs": [],
      "source": [
        "model_fname = 'Ratings_BERT_7'\n",
        "my_wd = '/content/drive/My Drive'"
      ]
    },
    {
      "cell_type": "code",
      "execution_count": null,
      "metadata": {
        "id": "j629hMU3JQK3"
      },
      "outputs": [],
      "source": [
        "new_model = tf.keras.models.load_model(os.path.join(my_wd, model_fname))"
      ]
    },
    {
      "cell_type": "code",
      "execution_count": null,
      "metadata": {
        "id": "zkUB8uEbA8Gu"
      },
      "outputs": [],
      "source": [
        "import tensorflow_addons as tfa\n",
        "new_model.compile(tfa.optimizers.RectifiedAdam(learning_rate= 1e-5, beta_1= 0.8, beta_2=0.8),   \n",
        "              loss='categorical_crossentropy',\n",
        "              metrics=['accuracy'],\n",
        "  \n",
        "              )"
      ]
    },
    {
      "cell_type": "code",
      "execution_count": null,
      "metadata": {
        "colab": {
          "base_uri": "https://localhost:8080/"
        },
        "id": "UJB0wICxDvJb",
        "outputId": "0bbce298-0a23-4c94-8e0c-0caf982a4809"
      },
      "outputs": [
        {
          "name": "stdout",
          "output_type": "stream",
          "text": [
            "12000/12000 [==============================] - 343s 29ms/step\n",
            "              precision    recall  f1-score   support\n",
            "\n",
            "           1     0.7975    0.7629    0.7798      2400\n",
            "           2     0.6896    0.6108    0.6478      2400\n",
            "           3     0.6461    0.7362    0.6882      2400\n",
            "           4     0.7127    0.6254    0.6662      2400\n",
            "           5     0.7625    0.8696    0.8125      2400\n",
            "\n",
            "    accuracy                         0.7210     12000\n",
            "   macro avg     0.7217    0.7210    0.7189     12000\n",
            "weighted avg     0.7217    0.7210    0.7189     12000\n",
            "\n"
          ]
        }
      ],
      "source": [
        "from sklearn.metrics import classification_report\n",
        "from sklearn.metrics import accuracy_score\n",
        "\n",
        "y_pred = new_model.predict(X_test, batch_size=1, verbose=1)\n",
        "y_pred_bool = np.argmax(y_pred, axis=1) + 1\n",
        "print(classification_report(y_test, y_pred_bool, labels=[1,2,3,4,5], digits=4))\n"
      ]
    },
    {
      "cell_type": "code",
      "execution_count": null,
      "metadata": {
        "colab": {
          "base_uri": "https://localhost:8080/"
        },
        "id": "8FLRg72VcX7d",
        "outputId": "5f36cf0c-1437-4ecf-e973-1cda31bce605"
      },
      "outputs": [
        {
          "name": "stdout",
          "output_type": "stream",
          "text": [
            "Testing Accuracy:  0.7210\n"
          ]
        }
      ],
      "source": [
        "loss, accuracy = new_model.evaluate(X_test, dummy_y_test, verbose=False)\n",
        "print(\"Testing Accuracy:  {:.4f}\".format(accuracy))"
      ]
    }
  ],
  "metadata": {
    "accelerator": "GPU",
    "colab": {
      "collapsed_sections": [],
      "machine_shape": "hm",
      "name": "5_category_shallow_model.ipynb",
      "provenance": [],
      "include_colab_link": true
    },
    "kernelspec": {
      "display_name": "Python 3",
      "name": "python3"
    },
    "language_info": {
      "name": "python"
    }
  },
  "nbformat": 4,
  "nbformat_minor": 0
}