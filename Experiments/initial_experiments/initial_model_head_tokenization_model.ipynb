{
  "cells": [
    {
      "cell_type": "markdown",
      "metadata": {
        "id": "view-in-github",
        "colab_type": "text"
      },
      "source": [
        "<a href=\"https://colab.research.google.com/github/AyazNakhudaGitHub/BERT_Customer_Reviews_Classification/blob/main/Experiments/initial_model_head_tokenization_model.ipynb\" target=\"_parent\"><img src=\"https://colab.research.google.com/assets/colab-badge.svg\" alt=\"Open In Colab\"/></a>"
      ]
    },
    {
      "cell_type": "markdown",
      "source": [
        "# **Deep Neural Network, Long Review Texts, Head Token Selection**"
      ],
      "metadata": {
        "id": "0pW846dAtzNi"
      }
    },
    {
      "cell_type": "markdown",
      "source": [
        "This was the first experiment done. It utilizes a deeper nerual network when compared to the other experiments. Furthermore, the head of the review texts were used for tokenization."
      ],
      "metadata": {
        "id": "fLpU-xymt0Kd"
      }
    },
    {
      "cell_type": "code",
      "execution_count": null,
      "metadata": {
        "colab": {
          "base_uri": "https://localhost:8080/"
        },
        "id": "DhtbgXdIHfAZ",
        "outputId": "47ad8f74-741b-4cb0-f0c1-92e3d9ea0f11"
      },
      "outputs": [
        {
          "name": "stdout",
          "output_type": "stream",
          "text": [
            "\u001b[K     |████████████████████████████████| 1.1 MB 4.1 MB/s \n",
            "\u001b[K     |████████████████████████████████| 352 kB 52.4 MB/s \n",
            "\u001b[K     |████████████████████████████████| 1.2 MB 56.6 MB/s \n",
            "\u001b[K     |████████████████████████████████| 99 kB 9.7 MB/s \n",
            "\u001b[K     |████████████████████████████████| 47.6 MB 1.2 MB/s \n",
            "\u001b[K     |████████████████████████████████| 213 kB 53.5 MB/s \n",
            "\u001b[K     |████████████████████████████████| 596 kB 48.8 MB/s \n",
            "\u001b[K     |████████████████████████████████| 1.1 MB 56.2 MB/s \n",
            "\u001b[K     |████████████████████████████████| 43 kB 1.9 MB/s \n",
            "\u001b[?25h  Building wheel for py-cpuinfo (setup.py) ... \u001b[?25l\u001b[?25hdone\n",
            "  Building wheel for seqeval (setup.py) ... \u001b[?25l\u001b[?25hdone\n"
          ]
        }
      ],
      "source": [
        "pip install -q tf-models-official==2.4.0"
      ]
    },
    {
      "cell_type": "code",
      "execution_count": null,
      "metadata": {
        "colab": {
          "base_uri": "https://localhost:8080/"
        },
        "id": "J390iilTHi1q",
        "outputId": "ace5e9fd-4513-4e3a-eb68-8958971ba8e7"
      },
      "outputs": [
        {
          "name": "stdout",
          "output_type": "stream",
          "text": [
            "\u001b[K     |████████████████████████████████| 4.9 MB 3.5 MB/s \n",
            "\u001b[?25h"
          ]
        }
      ],
      "source": [
        "pip install -q -U tensorflow-text"
      ]
    },
    {
      "cell_type": "code",
      "execution_count": null,
      "metadata": {
        "id": "c0gusxCtHi4U"
      },
      "outputs": [],
      "source": [
        "import os\n",
        "import urllib, json\n",
        "\n",
        "import numpy as np\n",
        "import pandas as pd\n",
        "\n",
        "import tensorflow as tf\n",
        "import tensorflow_hub as hub\n",
        "import seaborn as sns\n",
        "from tensorflow.keras.utils import to_categorical\n",
        "\n",
        "import official.nlp.bert.bert_models\n",
        "import official.nlp.bert.configs\n",
        "import official.nlp.bert.run_classifier\n",
        "import official.nlp.bert.tokenization as tokenization\n",
        "\n",
        "from official.modeling import tf_utils\n",
        "from official import nlp\n",
        "from official.nlp import bert\n",
        "\n",
        "from sklearn.model_selection import train_test_split\n",
        "from sklearn.preprocessing import LabelEncoder\n",
        "\n",
        "import matplotlib.pyplot as plt"
      ]
    },
    {
      "cell_type": "code",
      "execution_count": null,
      "metadata": {
        "colab": {
          "base_uri": "https://localhost:8080/"
        },
        "id": "DXtqRRlyNy6f",
        "outputId": "1acf975d-76e1-422f-bd4c-2f9313aab22e"
      },
      "outputs": [
        {
          "data": {
            "text/plain": [
              "[name: \"/device:CPU:0\"\n",
              " device_type: \"CPU\"\n",
              " memory_limit: 268435456\n",
              " locality {\n",
              " }\n",
              " incarnation: 11097086635419271547\n",
              " xla_global_id: -1, name: \"/device:GPU:0\"\n",
              " device_type: \"GPU\"\n",
              " memory_limit: 16154099712\n",
              " locality {\n",
              "   bus_id: 1\n",
              "   links {\n",
              "   }\n",
              " }\n",
              " incarnation: 5526354723200385756\n",
              " physical_device_desc: \"device: 0, name: Tesla P100-PCIE-16GB, pci bus id: 0000:00:04.0, compute capability: 6.0\"\n",
              " xla_global_id: 416903419]"
            ]
          },
          "execution_count": 4,
          "metadata": {},
          "output_type": "execute_result"
        }
      ],
      "source": [
        "from tensorflow.python.client import device_lib\n",
        "device_lib.list_local_devices()"
      ]
    },
    {
      "cell_type": "markdown",
      "source": [
        "Please follow the readme file on how to setup you google cloud to run this Colab notebook."
      ],
      "metadata": {
        "id": "xO2AHllvug2O"
      }
    },
    {
      "cell_type": "code",
      "execution_count": null,
      "metadata": {
        "colab": {
          "base_uri": "https://localhost:8080/"
        },
        "id": "EVg68JJPHi65",
        "outputId": "8f6a1b64-4350-4e1a-a17d-d82402a2708f"
      },
      "outputs": [
        {
          "name": "stdout",
          "output_type": "stream",
          "text": [
            "Mounted at /content/drive\n"
          ]
        }
      ],
      "source": [
        "from google.colab import drive\n",
        "drive.mount('/content/drive')"
      ]
    },
    {
      "cell_type": "markdown",
      "source": [
        "Below, the pretrained BERT model is loadin in."
      ],
      "metadata": {
        "id": "FeUhv6OcuoLM"
      }
    },
    {
      "cell_type": "code",
      "execution_count": null,
      "metadata": {
        "id": "6kYz0c0w7XSj"
      },
      "outputs": [],
      "source": [
        "bert_layer=hub.KerasLayer(\"https://tfhub.dev/tensorflow/bert_en_uncased_L-12_H-768_A-12/2\",trainable=True)"
      ]
    },
    {
      "cell_type": "code",
      "execution_count": null,
      "metadata": {
        "id": "AbOqYtz_HjAO"
      },
      "outputs": [],
      "source": [
        "vocab_file = bert_layer.resolved_object.vocab_file.asset_path.numpy()\n",
        "do_lower_case = bert_layer.resolved_object.do_lower_case.numpy()\n",
        "tokenizer = tokenization.FullTokenizer(vocab_file, do_lower_case)"
      ]
    },
    {
      "cell_type": "code",
      "execution_count": null,
      "metadata": {
        "colab": {
          "base_uri": "https://localhost:8080/"
        },
        "id": "y1jag3mqHjDO",
        "outputId": "a9a7601b-c764-4780-a04a-5867f6b73bb0"
      },
      "outputs": [
        {
          "data": {
            "text/plain": [
              "[101, 102]"
            ]
          },
          "execution_count": 8,
          "metadata": {},
          "output_type": "execute_result"
        }
      ],
      "source": [
        "tokenizer.convert_tokens_to_ids(['[CLS]', '[SEP]'])"
      ]
    },
    {
      "cell_type": "code",
      "execution_count": null,
      "metadata": {
        "id": "wM4JpDYpHjHB"
      },
      "outputs": [],
      "source": [
        "data = pd.read_pickle('/content/drive/MyDrive/small6.plk')"
      ]
    },
    {
      "cell_type": "code",
      "execution_count": null,
      "metadata": {
        "colab": {
          "base_uri": "https://localhost:8080/",
          "height": 284
        },
        "id": "pB4sGw5aHjJk",
        "outputId": "691b23e3-c492-4ed3-f0b2-d511f941bfe2"
      },
      "outputs": [
        {
          "data": {
            "image/png": "[encoded data removed]",
            "text/plain": [
              "<Figure size 432x288 with 1 Axes>"
            ]
          },
          "metadata": {},
          "output_type": "display_data"
        }
      ],
      "source": [
        "sns.set_theme()\n",
        "ax = sns.countplot(x=\"overall\", data=data)"
      ]
    },
    {
      "cell_type": "code",
      "execution_count": null,
      "metadata": {
        "colab": {
          "base_uri": "https://localhost:8080/"
        },
        "id": "TBBdlE4rHjMQ",
        "outputId": "f475e52d-906a-4569-c7f8-9e3462558d31"
      },
      "outputs": [
        {
          "name": "stdout",
          "output_type": "stream",
          "text": [
            "<class 'pandas.core.frame.DataFrame'>\n",
            "Int64Index: 43659 entries, 469 to 7589996\n",
            "Data columns (total 4 columns):\n",
            " #   Column      Non-Null Count  Dtype \n",
            "---  ------      --------------  ----- \n",
            " 0   helpful     43659 non-null  object\n",
            " 1   reviewText  43659 non-null  object\n",
            " 2   overall     43659 non-null  int64 \n",
            " 3   summary     43659 non-null  object\n",
            "dtypes: int64(1), object(3)\n",
            "memory usage: 2.9+ MB\n"
          ]
        }
      ],
      "source": [
        "data.info()"
      ]
    },
    {
      "cell_type": "code",
      "execution_count": null,
      "metadata": {
        "colab": {
          "base_uri": "https://localhost:8080/"
        },
        "id": "gxJ4FqU7GwRb",
        "outputId": "2b517b87-db5b-452b-d390-5c91ac62c014"
      },
      "outputs": [
        {
          "name": "stdout",
          "output_type": "stream",
          "text": [
            "43659\n"
          ]
        },
        {
          "data": {
            "text/plain": [
              "13741"
            ]
          },
          "execution_count": 13,
          "metadata": {},
          "output_type": "execute_result"
        }
      ],
      "source": [
        "print(len(data))\n",
        "len(data[data['overall'] == 5])"
      ]
    },
    {
      "cell_type": "code",
      "execution_count": null,
      "metadata": {
        "colab": {
          "base_uri": "https://localhost:8080/"
        },
        "id": "lRgnMpumLElg",
        "outputId": "559df663-30b1-4d6e-f635-dad47e46f33b"
      },
      "outputs": [
        {
          "name": "stdout",
          "output_type": "stream",
          "text": [
            "<class 'pandas.core.frame.DataFrame'>\n",
            "Int64Index: 43659 entries, 469 to 7589996\n",
            "Data columns (total 4 columns):\n",
            " #   Column      Non-Null Count  Dtype \n",
            "---  ------      --------------  ----- \n",
            " 0   helpful     43659 non-null  object\n",
            " 1   reviewText  43659 non-null  object\n",
            " 2   overall     43659 non-null  int64 \n",
            " 3   summary     43659 non-null  object\n",
            "dtypes: int64(1), object(3)\n",
            "memory usage: 2.9+ MB\n"
          ]
        }
      ],
      "source": [
        "data.info()"
      ]
    },
    {
      "cell_type": "code",
      "execution_count": null,
      "metadata": {
        "colab": {
          "base_uri": "https://localhost:8080/",
          "height": 517
        },
        "id": "NcaagK98MpGe",
        "outputId": "bf104eb5-7464-453f-c4f3-1bfa681d2600"
      },
      "outputs": [
        {
          "data": {
            "image/png": "[encoded data removed]",
            "text/plain": [
              "<Figure size 864x576 with 2 Axes>"
            ]
          },
          "metadata": {},
          "output_type": "display_data"
        }
      ],
      "source": [
        "import matplotlib.ticker as ticker\n",
        "plt.figure(figsize=(12,8))\n",
        "ax = sns.countplot(x=\"overall\", data=data, order=[1,2,3,4,5])\n",
        "plt.title('Distribution of Ratings Given')\n",
        "plt.xlabel('Ratings Categories')\n",
        "ncount = len(data)\n",
        "# Make twin axis\n",
        "ax2=ax.twinx()\n",
        "\n",
        "# Switch so count axis is on right, frequency on left\n",
        "ax2.yaxis.tick_left()\n",
        "ax.yaxis.tick_right()\n",
        "\n",
        "# Also switch the labels over\n",
        "ax.yaxis.set_label_position('right')\n",
        "ax2.yaxis.set_label_position('left')\n",
        "\n",
        "ax2.set_ylabel('Frequency [%]')\n",
        "\n",
        "for p in ax.patches:\n",
        "    x=p.get_bbox().get_points()[:,0]\n",
        "    y=p.get_bbox().get_points()[1,1]\n",
        "    ax.annotate('{:.1f}%'.format(100.*y/ncount), (x.mean(), y), \n",
        "            ha='center', va='bottom') # set the alignment of the text\n",
        "\n",
        "# Use a LinearLocator to ensure the correct number of ticks\n",
        "ax.yaxis.set_major_locator(ticker.LinearLocator(11))\n",
        "\n",
        "# Fix the frequency range to 0-100\n",
        "ax2.set_ylim(0,100)\n",
        "ax.set_ylim(0,ncount)\n",
        "\n",
        "# And use a MultipleLocator to ensure a tick spacing of 10\n",
        "ax2.yaxis.set_major_locator(ticker.MultipleLocator(10))\n",
        "\n",
        "# Need to turn the grid on ax2 off, otherwise the gridlines end up on top of the bars\n",
        "ax2.grid(None)"
      ]
    },
    {
      "cell_type": "markdown",
      "metadata": {
        "id": "DQSF-DJLOjIZ"
      },
      "source": [
        "Below we want to make a subset of the data by taking instances of data that is in proportion to the original dataset."
      ]
    },
    {
      "cell_type": "code",
      "execution_count": null,
      "metadata": {
        "id": "yNi72QFsNlrP"
      },
      "outputs": [],
      "source": [
        "#20000  \n",
        "# getting the 1's \n",
        "np.random.seed(10)\n",
        "get_n = 3340\n",
        "index_to_get = data[data.overall == 1].index\n",
        "get_indices = np.random.choice(index_to_get, get_n, replace=False)\n",
        "data_a = data.loc[get_indices]\n",
        "\n",
        "# getting the 2's\n",
        "np.random.seed(10)\n",
        "get_n = 2560\n",
        "index_to_get = data[data.overall == 2].index\n",
        "get_indices = np.random.choice(index_to_get, get_n, replace=False)\n",
        "data_b = data.loc[get_indices]\n",
        "\n",
        "# getting the 3's\n",
        "np.random.seed(10)\n",
        "get_n = 4540\n",
        "index_to_get = data[data.overall == 3].index\n",
        "get_indices = np.random.choice(index_to_get, get_n, replace=False)\n",
        "data_c = data.loc[get_indices]\n",
        "\n",
        "# getting the 4's \n",
        "np.random.seed(10)\n",
        "get_n = 3280\n",
        "index_to_get = data[data.overall == 4].index\n",
        "get_indices = np.random.choice(index_to_get, get_n, replace=False)\n",
        "data_d = data.loc[get_indices]\n",
        "\n",
        "# getting the 5's\n",
        "np.random.seed(10)\n",
        "get_n = 6300\n",
        "index_to_get = data[data.overall == 5].index\n",
        "get_indices = np.random.choice(index_to_get, get_n, replace=False)\n",
        "data_e = data.loc[get_indices]\n",
        "\n",
        "\n"
      ]
    },
    {
      "cell_type": "code",
      "execution_count": null,
      "metadata": {
        "colab": {
          "base_uri": "https://localhost:8080/",
          "height": 411
        },
        "id": "OjrcqJQsXCIM",
        "outputId": "3a555a59-b10d-4992-9c37-709b931eec8f"
      },
      "outputs": [
        {
          "data": {
            "text/html": [
              "<div>\n",
              "<style scoped>\n",
              "    .dataframe tbody tr th:only-of-type {\n",
              "        vertical-align: middle;\n",
              "    }\n",
              "\n",
              "    .dataframe tbody tr th {\n",
              "        vertical-align: top;\n",
              "    }\n",
              "\n",
              "    .dataframe thead th {\n",
              "        text-align: right;\n",
              "    }\n",
              "</style>\n",
              "<table border=\"1\" class=\"dataframe\">\n",
              "  <thead>\n",
              "    <tr style=\"text-align: right;\">\n",
              "      <th></th>\n",
              "      <th>helpful</th>\n",
              "      <th>reviewText</th>\n",
              "      <th>overall</th>\n",
              "      <th>summary</th>\n",
              "    </tr>\n",
              "  </thead>\n",
              "  <tbody>\n",
              "    <tr>\n",
              "      <th>5760219</th>\n",
              "      <td>[0, 0]</td>\n",
              "      <td>I HAVE DONE EVERTHING  TO MAKE THE CONTROL WOR...</td>\n",
              "      <td>1</td>\n",
              "      <td>IT DONST WORK</td>\n",
              "    </tr>\n",
              "    <tr>\n",
              "      <th>189037</th>\n",
              "      <td>[0, 2]</td>\n",
              "      <td>I had to return this item because it did not w...</td>\n",
              "      <td>1</td>\n",
              "      <td>NO GOOD!</td>\n",
              "    </tr>\n",
              "    <tr>\n",
              "      <th>2313929</th>\n",
              "      <td>[2, 7]</td>\n",
              "      <td>This seriously stinks! I used to buy these but...</td>\n",
              "      <td>1</td>\n",
              "      <td>Super bummed about the price.</td>\n",
              "    </tr>\n",
              "    <tr>\n",
              "      <th>2831281</th>\n",
              "      <td>[8, 13]</td>\n",
              "      <td>I cannot believe Epic shovelled this game onto...</td>\n",
              "      <td>1</td>\n",
              "      <td>Pure Consolitus</td>\n",
              "    </tr>\n",
              "    <tr>\n",
              "      <th>5863483</th>\n",
              "      <td>[1, 1]</td>\n",
              "      <td>I bought this for my Samsung S3.It work fine u...</td>\n",
              "      <td>1</td>\n",
              "      <td>It alread doesn't work.</td>\n",
              "    </tr>\n",
              "    <tr>\n",
              "      <th>...</th>\n",
              "      <td>...</td>\n",
              "      <td>...</td>\n",
              "      <td>...</td>\n",
              "      <td>...</td>\n",
              "    </tr>\n",
              "    <tr>\n",
              "      <th>3475489</th>\n",
              "      <td>[0, 0]</td>\n",
              "      <td>You is fun because I get to personalize my pou...</td>\n",
              "      <td>5</td>\n",
              "      <td>Personalization</td>\n",
              "    </tr>\n",
              "    <tr>\n",
              "      <th>495741</th>\n",
              "      <td>[1, 3]</td>\n",
              "      <td>Having received this via the vine program, it ...</td>\n",
              "      <td>5</td>\n",
              "      <td>Nice quality product for the price</td>\n",
              "    </tr>\n",
              "    <tr>\n",
              "      <th>6659639</th>\n",
              "      <td>[0, 0]</td>\n",
              "      <td>Predatory Ethics By AthanasiosThe book opens o...</td>\n",
              "      <td>5</td>\n",
              "      <td>Predatory Ethics</td>\n",
              "    </tr>\n",
              "    <tr>\n",
              "      <th>1367230</th>\n",
              "      <td>[24, 27]</td>\n",
              "      <td>This beautiful, romantic,finger-killer, arm-br...</td>\n",
              "      <td>5</td>\n",
              "      <td>Not arguably..... simply the greatest</td>\n",
              "    </tr>\n",
              "    <tr>\n",
              "      <th>428902</th>\n",
              "      <td>[0, 0]</td>\n",
              "      <td>I'm pretty excited over this soap dish.  Our s...</td>\n",
              "      <td>5</td>\n",
              "      <td>Easily amused</td>\n",
              "    </tr>\n",
              "  </tbody>\n",
              "</table>\n",
              "<p>20020 rows × 4 columns</p>\n",
              "</div>"
            ],
            "text/plain": [
              "          helpful  ...                                summary\n",
              "5760219    [0, 0]  ...                          IT DONST WORK\n",
              "189037     [0, 2]  ...                               NO GOOD!\n",
              "2313929    [2, 7]  ...          Super bummed about the price.\n",
              "2831281   [8, 13]  ...                        Pure Consolitus\n",
              "5863483    [1, 1]  ...                It alread doesn't work.\n",
              "...           ...  ...                                    ...\n",
              "3475489    [0, 0]  ...                        Personalization\n",
              "495741     [1, 3]  ...     Nice quality product for the price\n",
              "6659639    [0, 0]  ...                       Predatory Ethics\n",
              "1367230  [24, 27]  ...  Not arguably..... simply the greatest\n",
              "428902     [0, 0]  ...                          Easily amused\n",
              "\n",
              "[20020 rows x 4 columns]"
            ]
          },
          "execution_count": 23,
          "metadata": {},
          "output_type": "execute_result"
        }
      ],
      "source": [
        "data_2 = pd.concat([data_a, data_b, data_c, data_d, data_e])\n",
        "\n",
        "data_2"
      ]
    },
    {
      "cell_type": "code",
      "execution_count": null,
      "metadata": {
        "colab": {
          "base_uri": "https://localhost:8080/",
          "height": 517
        },
        "id": "wWIEyBJm-ASf",
        "outputId": "b73442c9-90ac-4e17-f14f-48567e26bad9"
      },
      "outputs": [
        {
          "data": {
            "image/png": "[encoded data removed]",
            "text/plain": [
              "<Figure size 864x576 with 2 Axes>"
            ]
          },
          "metadata": {},
          "output_type": "display_data"
        }
      ],
      "source": [
        "import matplotlib.ticker as ticker\n",
        "plt.figure(figsize=(12,8))\n",
        "ax = sns.countplot(x=\"overall\", data=data_2, order=[1,2,3,4,5])\n",
        "plt.title('Distribution of Ratings Given')\n",
        "plt.xlabel('Ratings Categories')\n",
        "ncount = len(data_2)\n",
        "# Make twin axis\n",
        "ax2=ax.twinx()\n",
        "\n",
        "# Switch so count axis is on right, frequency on left\n",
        "ax2.yaxis.tick_left()\n",
        "ax.yaxis.tick_right()\n",
        "\n",
        "# Also switch the labels over\n",
        "ax.yaxis.set_label_position('right')\n",
        "ax2.yaxis.set_label_position('left')\n",
        "\n",
        "ax2.set_ylabel('Frequency [%]')\n",
        "\n",
        "for p in ax.patches:\n",
        "    x=p.get_bbox().get_points()[:,0]\n",
        "    y=p.get_bbox().get_points()[1,1]\n",
        "    ax.annotate('{:.1f}%'.format(100.*y/ncount), (x.mean(), y), \n",
        "            ha='center', va='bottom') # set the alignment of the text\n",
        "\n",
        "# Use a LinearLocator to ensure the correct number of ticks\n",
        "ax.yaxis.set_major_locator(ticker.LinearLocator(11))\n",
        "\n",
        "# Fix the frequency range to 0-100\n",
        "ax2.set_ylim(0,100)\n",
        "ax.set_ylim(0,ncount)\n",
        "\n",
        "# And use a MultipleLocator to ensure a tick spacing of 10\n",
        "ax2.yaxis.set_major_locator(ticker.MultipleLocator(10))\n",
        "\n",
        "# Need to turn the grid on ax2 off, otherwise the gridlines end up on top of the bars\n",
        "ax2.grid(None)"
      ]
    },
    {
      "cell_type": "code",
      "execution_count": null,
      "metadata": {
        "colab": {
          "base_uri": "https://localhost:8080/"
        },
        "id": "gbmS9-jv8DbF",
        "outputId": "a7ec8c0f-7cae-4d0a-bc78-5bcd78ae4cbf"
      },
      "outputs": [
        {
          "name": "stdout",
          "output_type": "stream",
          "text": [
            "<class 'pandas.core.frame.DataFrame'>\n",
            "Int64Index: 20020 entries, 5760219 to 428902\n",
            "Data columns (total 4 columns):\n",
            " #   Column      Non-Null Count  Dtype \n",
            "---  ------      --------------  ----- \n",
            " 0   helpful     20020 non-null  object\n",
            " 1   reviewText  20020 non-null  object\n",
            " 2   overall     20020 non-null  int64 \n",
            " 3   summary     20020 non-null  object\n",
            "dtypes: int64(1), object(3)\n",
            "memory usage: 1.4+ MB\n"
          ]
        }
      ],
      "source": [
        "data_2.info()"
      ]
    },
    {
      "cell_type": "code",
      "execution_count": null,
      "metadata": {
        "colab": {
          "base_uri": "https://localhost:8080/",
          "height": 284
        },
        "id": "01g7jHywWLts",
        "outputId": "237f8ac6-aa6e-4fa9-a9ad-c9e01df4cd55"
      },
      "outputs": [
        {
          "data": {
            "image/png": "[encoded data removed]",
            "text/plain": [
              "<Figure size 432x288 with 1 Axes>"
            ]
          },
          "metadata": {},
          "output_type": "display_data"
        }
      ],
      "source": [
        "sns.set_theme()\n",
        "ax = sns.countplot(x=\"overall\", data=data_2)"
      ]
    },
    {
      "cell_type": "code",
      "execution_count": null,
      "metadata": {
        "colab": {
          "base_uri": "https://localhost:8080/",
          "height": 411
        },
        "id": "QFvi8BSvOifO",
        "outputId": "76eaa666-d7cd-4070-9ba4-cc80ba3f8ef2"
      },
      "outputs": [
        {
          "data": {
            "text/html": [
              "<div>\n",
              "<style scoped>\n",
              "    .dataframe tbody tr th:only-of-type {\n",
              "        vertical-align: middle;\n",
              "    }\n",
              "\n",
              "    .dataframe tbody tr th {\n",
              "        vertical-align: top;\n",
              "    }\n",
              "\n",
              "    .dataframe thead th {\n",
              "        text-align: right;\n",
              "    }\n",
              "</style>\n",
              "<table border=\"1\" class=\"dataframe\">\n",
              "  <thead>\n",
              "    <tr style=\"text-align: right;\">\n",
              "      <th></th>\n",
              "      <th>helpful</th>\n",
              "      <th>reviewText</th>\n",
              "      <th>overall</th>\n",
              "      <th>summary</th>\n",
              "    </tr>\n",
              "  </thead>\n",
              "  <tbody>\n",
              "    <tr>\n",
              "      <th>5702187</th>\n",
              "      <td>[0, 0]</td>\n",
              "      <td>Pros: great price in category; light; no white...</td>\n",
              "      <td>3</td>\n",
              "      <td>cost-efficient speakers with drawbacks</td>\n",
              "    </tr>\n",
              "    <tr>\n",
              "      <th>119202</th>\n",
              "      <td>[1, 1]</td>\n",
              "      <td>I bought this for making squash ribbons from z...</td>\n",
              "      <td>1</td>\n",
              "      <td>Few ribbons, lots of mush!</td>\n",
              "    </tr>\n",
              "    <tr>\n",
              "      <th>2593627</th>\n",
              "      <td>[0, 0]</td>\n",
              "      <td>This is a really fun game.  I had the original...</td>\n",
              "      <td>5</td>\n",
              "      <td>Great Game for Any Princess</td>\n",
              "    </tr>\n",
              "    <tr>\n",
              "      <th>2147151</th>\n",
              "      <td>[0, 0]</td>\n",
              "      <td>I wanted some grounding (Earthing) shoes but w...</td>\n",
              "      <td>4</td>\n",
              "      <td>Don't put on the soles if you're using with gr...</td>\n",
              "    </tr>\n",
              "    <tr>\n",
              "      <th>1139210</th>\n",
              "      <td>[3, 3]</td>\n",
              "      <td>John Coltrane demonstrates another side of his...</td>\n",
              "      <td>5</td>\n",
              "      <td>A different side of Coltrane</td>\n",
              "    </tr>\n",
              "    <tr>\n",
              "      <th>...</th>\n",
              "      <td>...</td>\n",
              "      <td>...</td>\n",
              "      <td>...</td>\n",
              "      <td>...</td>\n",
              "    </tr>\n",
              "    <tr>\n",
              "      <th>5016890</th>\n",
              "      <td>[1, 2]</td>\n",
              "      <td>This is an OK mid-quality filter.  However, it...</td>\n",
              "      <td>2</td>\n",
              "      <td>Marginal Quality</td>\n",
              "    </tr>\n",
              "    <tr>\n",
              "      <th>278928</th>\n",
              "      <td>[0, 0]</td>\n",
              "      <td>Lasted 2 years of little use and died with ERR...</td>\n",
              "      <td>2</td>\n",
              "      <td>Dead with ERR. after 2 years.</td>\n",
              "    </tr>\n",
              "    <tr>\n",
              "      <th>2655051</th>\n",
              "      <td>[6, 7]</td>\n",
              "      <td>I own (and am reviewing) several Nerf Super So...</td>\n",
              "      <td>3</td>\n",
              "      <td>Cool idea, but inferior to the cheaper Scatter...</td>\n",
              "    </tr>\n",
              "    <tr>\n",
              "      <th>5198500</th>\n",
              "      <td>[2, 2]</td>\n",
              "      <td>They are inexpensive enough.  However, use car...</td>\n",
              "      <td>3</td>\n",
              "      <td>KOSS Headset Cushions</td>\n",
              "    </tr>\n",
              "    <tr>\n",
              "      <th>6728828</th>\n",
              "      <td>[0, 0]</td>\n",
              "      <td>it is not realistic for a woman to stay in hom...</td>\n",
              "      <td>4</td>\n",
              "      <td>A good story with moral values.</td>\n",
              "    </tr>\n",
              "  </tbody>\n",
              "</table>\n",
              "<p>20020 rows × 4 columns</p>\n",
              "</div>"
            ],
            "text/plain": [
              "        helpful  ...                                            summary\n",
              "5702187  [0, 0]  ...             cost-efficient speakers with drawbacks\n",
              "119202   [1, 1]  ...                         Few ribbons, lots of mush!\n",
              "2593627  [0, 0]  ...                        Great Game for Any Princess\n",
              "2147151  [0, 0]  ...  Don't put on the soles if you're using with gr...\n",
              "1139210  [3, 3]  ...                       A different side of Coltrane\n",
              "...         ...  ...                                                ...\n",
              "5016890  [1, 2]  ...                                   Marginal Quality\n",
              "278928   [0, 0]  ...                      Dead with ERR. after 2 years.\n",
              "2655051  [6, 7]  ...  Cool idea, but inferior to the cheaper Scatter...\n",
              "5198500  [2, 2]  ...                              KOSS Headset Cushions\n",
              "6728828  [0, 0]  ...                    A good story with moral values.\n",
              "\n",
              "[20020 rows x 4 columns]"
            ]
          },
          "execution_count": 27,
          "metadata": {},
          "output_type": "execute_result"
        }
      ],
      "source": [
        "data_2 = data_2.sample(frac=1)\n",
        "data_2"
      ]
    },
    {
      "cell_type": "markdown",
      "source": [
        "The data is split using an 80/10/10 strategy."
      ],
      "metadata": {
        "id": "J0VSAaScuvg5"
      }
    },
    {
      "cell_type": "code",
      "execution_count": null,
      "metadata": {
        "id": "yGbHu5Cs5RZ1"
      },
      "outputs": [],
      "source": [
        "import sklearn\n",
        "\n",
        "x = data_2.reviewText.values\n",
        "y = data_2.overall.values\n",
        "\n",
        "\n",
        "def data_split(examples, labels, train_frac = 0.8, random_state=None):\n",
        "\n",
        "\n",
        "    assert train_frac >= 0 and train_frac <= 1, \"Invalid training set fraction\"\n",
        "\n",
        "    X_train, X_tmp, Y_train, Y_tmp = sklearn.model_selection.train_test_split(\n",
        "                                        examples, labels, train_size=train_frac, random_state=random_state)\n",
        "\n",
        "    X_val, X_test, Y_val, Y_test   = sklearn.model_selection.train_test_split(\n",
        "                                        X_tmp, Y_tmp, train_size=0.5, random_state=random_state)\n",
        "\n",
        "    return X_train, X_val, X_test,  Y_train, Y_val, Y_test\n",
        "\n",
        "x_train, x_val, x_test,  y_train, y_val, y_test = data_split(x,y,0.8,32)"
      ]
    },
    {
      "cell_type": "code",
      "execution_count": null,
      "metadata": {
        "colab": {
          "base_uri": "https://localhost:8080/"
        },
        "id": "5rHRiMK2gc8X",
        "outputId": "70375f93-67ef-4e42-ec1c-03f3a7cb2ef9"
      },
      "outputs": [
        {
          "name": "stdout",
          "output_type": "stream",
          "text": [
            "(16016,)\n"
          ]
        }
      ],
      "source": [
        "print(x_train.shape)"
      ]
    },
    {
      "cell_type": "code",
      "execution_count": null,
      "metadata": {
        "colab": {
          "base_uri": "https://localhost:8080/",
          "height": 317
        },
        "id": "Ace0pxTmCZGP",
        "outputId": "2f1c412e-aea5-4f3c-d0bc-2b3d1ed73477"
      },
      "outputs": [
        {
          "name": "stdout",
          "output_type": "stream",
          "text": [
            "2057\n",
            "5070\n"
          ]
        },
        {
          "data": {
            "image/png": "[encoded data removed]",
            "text/plain": [
              "<Figure size 432x288 with 1 Axes>"
            ]
          },
          "metadata": {},
          "output_type": "display_data"
        }
      ],
      "source": [
        "print(len(y_train[y_train == 2]))\n",
        "print(len(y_train[y_train==5]))\n",
        "dist_y = pd.DataFrame(y_train, columns=[\"overall\"])\n",
        "sns.set_theme()\n",
        "ax = sns.countplot(x=\"overall\", data=dist_y)"
      ]
    },
    {
      "cell_type": "code",
      "execution_count": null,
      "metadata": {
        "cellView": "code",
        "id": "lhfL5VezHjRx"
      },
      "outputs": [],
      "source": [
        "encoder = LabelEncoder()\n",
        "encoder.fit(y)\n",
        "encoded_Y_test = encoder.transform(y_test)\n",
        "encoded_Y_train = encoder.transform(y_train)\n",
        "\n",
        "# convert integers to dummy variables (i.e. one hot encoded)\n",
        "dummy_y_test = to_categorical(encoded_Y_test)\n",
        "dummy_y_train = to_categorical(encoded_Y_train)"
      ]
    },
    {
      "cell_type": "code",
      "execution_count": null,
      "metadata": {
        "cellView": "code",
        "id": "SjtwdQ6iIAJE"
      },
      "outputs": [],
      "source": [
        "\n",
        "def encode_names(n):\n",
        "   tokens = list(tokenizer.tokenize(n))\n",
        "  \n",
        "   tokens.append('[SEP]')\n",
        "   return tokenizer.convert_tokens_to_ids(tokens) \n",
        "\n",
        "reviews = tf.ragged.constant([\n",
        "    encode_names(n) for n in x_train])"
      ]
    },
    {
      "cell_type": "code",
      "execution_count": null,
      "metadata": {
        "cellView": "code",
        "colab": {
          "base_uri": "https://localhost:8080/"
        },
        "id": "TM3ORRT8IAMM",
        "outputId": "906a63a1-c3a4-44ec-ba09-ff9f16d7d641"
      },
      "outputs": [
        {
          "name": "stdout",
          "output_type": "stream",
          "text": [
            "Tokenized reviews shape [16016, None]\n"
          ]
        }
      ],
      "source": [
        "print('Tokenized reviews shape', reviews.shape.as_list())"
      ]
    },
    {
      "cell_type": "code",
      "execution_count": null,
      "metadata": {
        "colab": {
          "base_uri": "https://localhost:8080/",
          "height": 165
        },
        "id": "lwN6dFKRIAOg",
        "outputId": "17595973-6b2e-4187-aa7b-6ecb3e89aebf"
      },
      "outputs": [
        {
          "data": {
            "application/vnd.google.colaboratory.intrinsic+json": {
              "type": "string"
            },
            "text/plain": [
              "\"The quality and the design of Ergobaby products are always excellent.  After using this a few times I have found that this swaddler definitely has some advantages over swaddle blankets or swaddlers from makers like Halo or Summer Infant.While I like some of the features that the Babyergo has, like the arm pockets and the changing leg pocket, with my kids it seems like they like to be tightly swaddled all over and the leg pocket doesn't support their legs enough.  The materials used feel very high quality andWe have tried many of these swaddlers because I thought there would be something better and faster than the basic swaddle blankets that we first stared with.  As I have become more proficient in swaddling the infants, I find that I still choose to use theAden By aden + anais Muslin Swaddle Blanket 4 Pack, Safari Friends.  These swaddle blankets are very versatile.  We carried them with us with our first child up until he was about 2.  They are light and thin so as a swaddler they kept him bundled but without overheating.  They also doubled as a nursing cover and a stroller/carrier cover.  After a while if you can find things that can pull double/triple duty, it makes the diaper bag that much lighter.\""
            ]
          },
          "execution_count": 34,
          "metadata": {},
          "output_type": "execute_result"
        }
      ],
      "source": [
        "x_train[0]"
      ]
    },
    {
      "cell_type": "code",
      "execution_count": null,
      "metadata": {
        "cellView": "code",
        "colab": {
          "base_uri": "https://localhost:8080/",
          "height": 271
        },
        "id": "N_N4q-k5IAQ1",
        "outputId": "cb041897-07bf-4d66-978f-78f53a6c05b8"
      },
      "outputs": [
        {
          "data": {
            "image/png": "[encoded data removed]",
            "text/plain": [
              "<Figure size 432x288 with 1 Axes>"
            ]
          },
          "metadata": {},
          "output_type": "display_data"
        }
      ],
      "source": [
        "cls = [tokenizer.convert_tokens_to_ids(['[CLS]'])]*reviews.shape[0]\n",
        "input_word_ids = tf.concat([cls, reviews], axis=-1)\n",
        "_ = plt.pcolormesh(input_word_ids[0:10].to_tensor())"
      ]
    },
    {
      "cell_type": "code",
      "execution_count": null,
      "metadata": {
        "cellView": "code",
        "colab": {
          "base_uri": "https://localhost:8080/",
          "height": 288
        },
        "id": "h_xMAyATIAUk",
        "outputId": "25964103-114b-4393-96bc-6c2955a7237c"
      },
      "outputs": [
        {
          "data": {
            "text/plain": [
              "<matplotlib.collections.QuadMesh at 0x7ff1aff4ab10>"
            ]
          },
          "execution_count": 36,
          "metadata": {},
          "output_type": "execute_result"
        },
        {
          "data": {
            "image/png": "[encoded data removed]",
            "text/plain": [
              "<Figure size 432x288 with 1 Axes>"
            ]
          },
          "metadata": {},
          "output_type": "display_data"
        }
      ],
      "source": [
        "input_mask = tf.ones_like(input_word_ids).to_tensor()\n",
        "\n",
        "plt.pcolormesh(input_mask)"
      ]
    },
    {
      "cell_type": "code",
      "execution_count": null,
      "metadata": {
        "cellView": "code",
        "colab": {
          "base_uri": "https://localhost:8080/",
          "height": 288
        },
        "id": "QD9O1o3GIAXG",
        "outputId": "b1c0607f-30b1-4860-94a7-f57f56febc0b"
      },
      "outputs": [
        {
          "data": {
            "text/plain": [
              "<matplotlib.collections.QuadMesh at 0x7ff1aff38390>"
            ]
          },
          "execution_count": 37,
          "metadata": {},
          "output_type": "execute_result"
        },
        {
          "data": {
            "image/png": "[encoded data removed]",
            "text/plain": [
              "<Figure size 432x288 with 1 Axes>"
            ]
          },
          "metadata": {},
          "output_type": "display_data"
        }
      ],
      "source": [
        "type_cls = tf.zeros_like(cls)\n",
        "type_review = tf.ones_like(reviews)\n",
        "input_type_ids = tf.concat([type_cls, type_review], axis=-1).to_tensor()\n",
        "\n",
        "plt.pcolormesh(input_type_ids)"
      ]
    },
    {
      "cell_type": "code",
      "execution_count": null,
      "metadata": {
        "cellView": "code",
        "id": "RESnwaAIIAal"
      },
      "outputs": [],
      "source": [
        "lens = [len(i) for i in input_word_ids]\n",
        "\n",
        "#max_seq_length = max(lens)\n",
        "#print('Max length is:', max_seq_length)"
      ]
    },
    {
      "cell_type": "code",
      "execution_count": null,
      "metadata": {
        "id": "G4U7BVYnZ4Qm"
      },
      "outputs": [],
      "source": [
        "#max_seq_length = int(1.5*max_seq_length)\n",
        "#print('Max length is:', max_seq_length)"
      ]
    },
    {
      "cell_type": "code",
      "execution_count": null,
      "metadata": {
        "cellView": "code",
        "id": "WtVjDdAhIAkL"
      },
      "outputs": [],
      "source": [
        "\n",
        "def encode_names(n, tokenizer):\n",
        "   tokens = list(tokenizer.tokenize(n))\n",
        "   tokens.append('[SEP]')\n",
        "   return tokenizer.convert_tokens_to_ids(tokens)\n",
        "\n",
        "def bert_encode(string_list, tokenizer, max_seq_length):\n",
        "  num_examples = len(string_list)\n",
        "  \n",
        "  string_tokens = tf.ragged.constant([\n",
        "      encode_names(n, tokenizer) for n in np.array(string_list)])\n",
        "\n",
        "  cls = [tokenizer.convert_tokens_to_ids(['[CLS]'])]*string_tokens.shape[0]\n",
        "  input_word_ids = tf.concat([cls, string_tokens], axis=-1)\n",
        "\n",
        "  input_mask = tf.ones_like(input_word_ids).to_tensor(shape=(None, max_seq_length))\n",
        "\n",
        "  type_cls = tf.zeros_like(cls)\n",
        "  type_tokens = tf.ones_like(string_tokens)\n",
        "  input_type_ids = tf.concat(\n",
        "      [type_cls, type_tokens], axis=-1).to_tensor(shape=(None, max_seq_length))\n",
        "\n",
        "\n",
        "\n",
        "  inputs = {\n",
        "      'input_word_ids': input_word_ids.to_tensor(shape=(None, max_seq_length)),\n",
        "      'input_mask': input_mask,\n",
        "      'input_type_ids': input_type_ids}\n",
        "\n",
        "  return inputs"
      ]
    },
    {
      "cell_type": "code",
      "execution_count": null,
      "metadata": {
        "id": "ziCpcBsAV-dD"
      },
      "outputs": [],
      "source": [
        "max_seq_length = 512\n"
      ]
    },
    {
      "cell_type": "markdown",
      "source": [
        "The BERT encoding is done below:"
      ],
      "metadata": {
        "id": "_tdpsOP2u1vh"
      }
    },
    {
      "cell_type": "code",
      "execution_count": null,
      "metadata": {
        "cellView": "code",
        "id": "7B0VXSODIAoF"
      },
      "outputs": [],
      "source": [
        "X_train = bert_encode(x_train, tokenizer, max_seq_length)    \n",
        "X_test = bert_encode(x_test, tokenizer, max_seq_length)\n"
      ]
    },
    {
      "cell_type": "code",
      "execution_count": null,
      "metadata": {
        "id": "TY6n4c6KIlrK"
      },
      "outputs": [],
      "source": [
        "epochs = 4  \n",
        "batch_size = 8 \n",
        "eval_batch_size = batch_size\n",
        "LR = 2e-5\n",
        "\n",
        "train_data_size = len(y_train)\n",
        "steps_per_epoch = int(train_data_size / batch_size)\n",
        "num_train_steps = steps_per_epoch * epochs\n",
        "warmup_steps = int(epochs * train_data_size * 0.1 / batch_size)"
      ]
    },
    {
      "cell_type": "code",
      "execution_count": null,
      "metadata": {
        "id": "E1bB0c6dHjUR"
      },
      "outputs": [],
      "source": [
        "\n",
        "input_word_ids = tf.keras.layers.Input(shape=(max_seq_length,), dtype=tf.int32,\n",
        "                                       name=\"input_word_ids\")\n",
        "input_mask = tf.keras.layers.Input(shape=(max_seq_length,), dtype=tf.int32,\n",
        "                                   name=\"input_mask\")\n",
        "segment_ids = tf.keras.layers.Input(shape=(max_seq_length,), dtype=tf.int32,\n",
        "                                    name=\"segment_ids\")\n",
        "\n",
        "pooled_output, sequence_output = bert_layer([input_word_ids, input_mask, segment_ids])                                 \n",
        "\n",
        "output = tf.keras.layers.Dense(512, kernel_regularizer=tf.keras.regularizers.L2(0.01), activity_regularizer= tf.keras.regularizers.L1(0.01), activation='relu')(pooled_output)\n",
        "output = tf.keras.layers.Dropout(rate=0.1)(output) \n",
        "output = tf.keras.layers.Dense(256)(output)\n",
        "output = tf.keras.layers.Dense(128)(output)\n",
        "output = tf.keras.layers.Dense(64, activation='relu')(output)\n",
        "output = tf.keras.layers.Dropout(rate=0.1)(output) \n",
        "output = tf.keras.layers.Dense(5, activation='softmax', name='output')(output)\n",
        "\n",
        "\n",
        "model = tf.keras.Model(\n",
        "    inputs={\n",
        "        'input_word_ids': input_word_ids,\n",
        "        'input_mask': input_mask,\n",
        "        'input_type_ids': segment_ids\n",
        "        },\n",
        "        outputs=output)\n"
      ]
    },
    {
      "cell_type": "code",
      "execution_count": null,
      "metadata": {
        "colab": {
          "base_uri": "https://localhost:8080/"
        },
        "id": "82jOlJa2zyjx",
        "outputId": "e825558e-f992-42e3-cc2d-a785b1ffdfba"
      },
      "outputs": [
        {
          "data": {
            "text/plain": [
              "<KerasTensor: shape=(None, 768) dtype=float32 (created by layer 'keras_layer')>"
            ]
          },
          "execution_count": 53,
          "metadata": {},
          "output_type": "execute_result"
        }
      ],
      "source": [
        "pooled_output"
      ]
    },
    {
      "cell_type": "code",
      "execution_count": null,
      "metadata": {
        "id": "Gkb4gQOccQFt"
      },
      "outputs": [],
      "source": [
        "import tensorflow_addons as tfa"
      ]
    },
    {
      "cell_type": "code",
      "execution_count": null,
      "metadata": {
        "id": "qZpXvrb6Ilt3"
      },
      "outputs": [],
      "source": [
        "model.compile(tfa.optimizers.RectifiedAdam(learning_rate=LR), # try sgd  \n",
        "              loss='categorical_crossentropy',\n",
        "              metrics=['accuracy'],\n",
        "  \n",
        "              )"
      ]
    },
    {
      "cell_type": "code",
      "execution_count": null,
      "metadata": {
        "colab": {
          "base_uri": "https://localhost:8080/",
          "height": 496
        },
        "id": "SYjdnTubHjW7",
        "outputId": "690c832d-87da-4c82-8ae4-2353b595eb88"
      },
      "outputs": [
        {
          "data": {
            "image/png": "[encoded data removed]",
            "text/plain": [
              "<IPython.core.display.Image object>"
            ]
          },
          "execution_count": 56,
          "metadata": {},
          "output_type": "execute_result"
        }
      ],
      "source": [
        "tf.keras.utils.plot_model(model, show_shapes=True, dpi=48)"
      ]
    },
    {
      "cell_type": "code",
      "execution_count": null,
      "metadata": {
        "colab": {
          "base_uri": "https://localhost:8080/"
        },
        "id": "CQF3dhgUIlw3",
        "outputId": "8c45f605-272c-47c7-cdb2-00f675f4bbcd"
      },
      "outputs": [
        {
          "name": "stdout",
          "output_type": "stream",
          "text": [
            "Model: \"model_1\"\n",
            "__________________________________________________________________________________________________\n",
            " Layer (type)                   Output Shape         Param #     Connected to                     \n",
            "==================================================================================================\n",
            " input_word_ids (InputLayer)    [(None, 512)]        0           []                               \n",
            "                                                                                                  \n",
            " input_mask (InputLayer)        [(None, 512)]        0           []                               \n",
            "                                                                                                  \n",
            " segment_ids (InputLayer)       [(None, 512)]        0           []                               \n",
            "                                                                                                  \n",
            " keras_layer (KerasLayer)       [(None, 768),        109482241   ['input_word_ids[0][0]',         \n",
            "                                 (None, 512, 768)]                'input_mask[0][0]',             \n",
            "                                                                  'segment_ids[0][0]']            \n",
            "                                                                                                  \n",
            " dense_4 (Dense)                (None, 512)          393728      ['keras_layer[1][0]']            \n",
            "                                                                                                  \n",
            " dropout_2 (Dropout)            (None, 512)          0           ['dense_4[0][0]']                \n",
            "                                                                                                  \n",
            " dense_5 (Dense)                (None, 256)          131328      ['dropout_2[0][0]']              \n",
            "                                                                                                  \n",
            " dense_6 (Dense)                (None, 128)          32896       ['dense_5[0][0]']                \n",
            "                                                                                                  \n",
            " dense_7 (Dense)                (None, 64)           8256        ['dense_6[0][0]']                \n",
            "                                                                                                  \n",
            " dropout_3 (Dropout)            (None, 64)           0           ['dense_7[0][0]']                \n",
            "                                                                                                  \n",
            " output (Dense)                 (None, 5)            325         ['dropout_3[0][0]']              \n",
            "                                                                                                  \n",
            "==================================================================================================\n",
            "Total params: 110,048,774\n",
            "Trainable params: 110,048,773\n",
            "Non-trainable params: 1\n",
            "__________________________________________________________________________________________________\n"
          ]
        }
      ],
      "source": [
        "model.summary()"
      ]
    },
    {
      "cell_type": "code",
      "execution_count": null,
      "metadata": {
        "colab": {
          "base_uri": "https://localhost:8080/"
        },
        "id": "erV6rnEZIlzj",
        "outputId": "becea1b7-db55-4194-e162-3e09c889727f"
      },
      "outputs": [
        {
          "name": "stdout",
          "output_type": "stream",
          "text": [
            "Epoch 1/4\n",
            "2002/2002 [==============================] - 1266s 623ms/step - loss: 6.2117 - accuracy: 0.5060 - val_loss: 4.3962 - val_accuracy: 0.5864\n",
            "Epoch 2/4\n",
            "2002/2002 [==============================] - 1247s 623ms/step - loss: 3.1016 - accuracy: 0.6148 - val_loss: 2.1653 - val_accuracy: 0.6054\n",
            "Epoch 3/4\n",
            "2002/2002 [==============================] - 1247s 623ms/step - loss: 1.5538 - accuracy: 0.6870 - val_loss: 1.5010 - val_accuracy: 0.5754\n",
            "Epoch 4/4\n",
            "2002/2002 [==============================] - 1247s 623ms/step - loss: 0.9844 - accuracy: 0.7656 - val_loss: 1.4129 - val_accuracy: 0.6004\n"
          ]
        }
      ],
      "source": [
        "history = model.fit(X_train,\n",
        "                    dummy_y_train,\n",
        "                    epochs=epochs,\n",
        "                    batch_size=batch_size,\n",
        "                    validation_data=(X_test, dummy_y_test),\n",
        "                    verbose=1)"
      ]
    },
    {
      "cell_type": "code",
      "execution_count": null,
      "metadata": {
        "id": "SnMrDuioMLB7"
      },
      "outputs": [],
      "source": [
        "X_val = bert_encode(x_val, tokenizer, max_seq_length)\n",
        "encoded_Y_val = encoder.transform(y_val)\n",
        "dummy_y_val = to_categorical(encoded_Y_val)"
      ]
    },
    {
      "cell_type": "code",
      "execution_count": null,
      "metadata": {
        "colab": {
          "base_uri": "https://localhost:8080/"
        },
        "id": "AXclx9IZ2wVu",
        "outputId": "fbabd2c1-7da5-4423-cb79-d0c6db42b7a9"
      },
      "outputs": [
        {
          "name": "stdout",
          "output_type": "stream",
          "text": [
            "Testing Accuracy:  0.5899\n"
          ]
        }
      ],
      "source": [
        "loss, accuracy = model.evaluate(X_val, dummy_y_val, verbose=False)\n",
        "print(\"Testing Accuracy:  {:.4f}\".format(accuracy))"
      ]
    },
    {
      "cell_type": "code",
      "execution_count": null,
      "metadata": {
        "colab": {
          "base_uri": "https://localhost:8080/"
        },
        "id": "T5L1EnlFRoII",
        "outputId": "db6c0d37-fb66-4abe-b41c-c0e0144ae8a2"
      },
      "outputs": [
        {
          "name": "stdout",
          "output_type": "stream",
          "text": [
            "251/251 [==============================] - 48s 188ms/step\n",
            "              precision    recall  f1-score   support\n",
            "\n",
            "           1     0.7257    0.6257    0.6720       334\n",
            "           2     0.3704    0.3162    0.3412       253\n",
            "           3     0.5462    0.5915    0.5679       470\n",
            "           4     0.4034    0.4140    0.4086       343\n",
            "           5     0.7410    0.7841    0.7619       602\n",
            "\n",
            "    accuracy                         0.5899      2002\n",
            "   macro avg     0.5573    0.5463    0.5503      2002\n",
            "weighted avg     0.5880    0.5899    0.5877      2002\n",
            "\n"
          ]
        }
      ],
      "source": [
        "from sklearn.metrics import classification_report\n",
        "from sklearn.metrics import accuracy_score\n",
        "\n",
        "y_pred = model.predict(X_val, batch_size=8, verbose=1)\n",
        "y_pred_bool = np.argmax(y_pred, axis=1) + 1\n",
        "print(classification_report(y_val, y_pred_bool, labels=[1,2,3,4,5], digits=4))"
      ]
    },
    {
      "cell_type": "code",
      "execution_count": null,
      "metadata": {
        "id": "dYaV2TPieXR6"
      },
      "outputs": [],
      "source": [
        "# Get Accuracy By Category\n",
        "def get_accuracy_category(y_pred_bool, y_true):\n",
        "  y_true_cat1 = y_true[y_true == 1]\n",
        "  y_pred_true_cat1 = y_pred_bool[y_true == 1]\n",
        "  num_correct_cat1 = len(y_pred_true_cat1[y_pred_true_cat1 == 1])\n",
        "\n",
        "  y_true_cat2 = y_true[y_true == 2]\n",
        "  y_pred_true_cat2 = y_pred_bool[y_true == 2]\n",
        "  num_correct_cat2 = len(y_pred_true_cat2[y_pred_true_cat2 == 2])\n",
        "\n",
        "  y_true_cat3 = y_true[y_true == 3]\n",
        "  y_pred_true_cat3 = y_pred_bool[y_true == 3]\n",
        "  num_correct_cat3 = len(y_pred_true_cat3[y_pred_true_cat3 == 3])\n",
        "\n",
        "  y_true_cat4 = y_true[y_true == 4]\n",
        "  y_pred_true_cat4 = y_pred_bool[y_true == 4]\n",
        "  num_correct_cat4 = len(y_pred_true_cat4[y_pred_true_cat4 == 4])\n",
        "\n",
        "  y_true_cat5 = y_true[y_true == 5]\n",
        "  y_pred_true_cat5 = y_pred_bool[y_true == 5]\n",
        "  num_correct_cat5 = len(y_pred_true_cat5[y_pred_true_cat5 == 5])\n",
        "\n",
        "  return (num_correct_cat1/len(y_true_cat1), num_correct_cat2/len(y_true_cat2), num_correct_cat3/len(y_true_cat3), num_correct_cat4/len(y_true_cat4), num_correct_cat5/len(y_true_cat5))\n",
        "\n"
      ]
    },
    {
      "cell_type": "code",
      "execution_count": null,
      "metadata": {
        "colab": {
          "base_uri": "https://localhost:8080/"
        },
        "id": "30Cos8lGP4xZ",
        "outputId": "2d40b52f-2a2a-40c0-82c6-2506e1e8e4aa"
      },
      "outputs": [
        {
          "data": {
            "text/plain": [
              "(0.625748502994012,\n",
              " 0.31620553359683795,\n",
              " 0.5914893617021276,\n",
              " 0.4139941690962099,\n",
              " 0.7840531561461794)"
            ]
          },
          "execution_count": 65,
          "metadata": {},
          "output_type": "execute_result"
        }
      ],
      "source": [
        "category_accuracy = get_accuracy_category(y_pred_bool, y_val)\n",
        "category_accuracy"
      ]
    },
    {
      "cell_type": "code",
      "execution_count": null,
      "metadata": {
        "id": "oDIZiwcBIl6I"
      },
      "outputs": [],
      "source": [
        "plt.style.use('ggplot')\n",
        "\n",
        "def plot_history(history):\n",
        "    acc = history.history['accuracy']\n",
        "    val_acc = history.history['val_accuracy']\n",
        "    loss = history.history['loss']\n",
        "    val_loss = history.history['val_loss']\n",
        "    x = range(1, len(acc) + 1)\n",
        "\n",
        "    plt.figure(figsize=(12, 5))\n",
        "    plt.subplot(1, 2, 1)\n",
        "    plt.plot(x, acc, 'b', label='Training acc')\n",
        "    plt.plot(x, val_acc, 'r', label='Validation acc')\n",
        "    plt.title('Training and validation accuracy')\n",
        "    plt.legend()\n",
        "    plt.subplot(1, 2, 2)\n",
        "    plt.plot(x, loss, 'b', label='Training loss')\n",
        "    plt.plot(x, val_loss, 'r', label='Validation loss')\n",
        "    plt.title('Training and validation loss')\n",
        "    plt.legend()"
      ]
    },
    {
      "cell_type": "code",
      "execution_count": null,
      "metadata": {
        "colab": {
          "base_uri": "https://localhost:8080/",
          "height": 338
        },
        "id": "xZdDErM7JFez",
        "outputId": "4106cfe3-484c-49f7-9539-bd0259c35f34"
      },
      "outputs": [
        {
          "data": {
            "image/png": "[encoded data removed]",
            "text/plain": [
              "<Figure size 864x360 with 2 Axes>"
            ]
          },
          "metadata": {},
          "output_type": "display_data"
        }
      ],
      "source": [
        "plot_history(history)"
      ]
    },
    {
      "cell_type": "code",
      "execution_count": null,
      "metadata": {
        "colab": {
          "base_uri": "https://localhost:8080/"
        },
        "id": "8ti9Xc_nJFk4",
        "outputId": "633d98fd-a866-4bc9-d6a4-f11605e65a89"
      },
      "outputs": [
        {
          "name": "stderr",
          "output_type": "stream",
          "text": [
            "WARNING:absl:Found untraced functions such as restored_function_body, restored_function_body, restored_function_body, restored_function_body, restored_function_body while saving (showing 5 of 945). These functions will not be directly callable after loading.\n"
          ]
        },
        {
          "name": "stdout",
          "output_type": "stream",
          "text": [
            "INFO:tensorflow:Assets written to: /content/drive/My Drive/Ratings_BERT_12/assets\n"
          ]
        },
        {
          "name": "stderr",
          "output_type": "stream",
          "text": [
            "INFO:tensorflow:Assets written to: /content/drive/My Drive/Ratings_BERT_12/assets\n"
          ]
        }
      ],
      "source": [
        "model_fname = 'Bert_5_category_head_tokenization'\n",
        "my_wd = '/content/drive/My Drive'\n",
        "\n",
        "model.save(os.path.join(my_wd, model_fname))"
      ]
    },
    {
      "cell_type": "code",
      "execution_count": null,
      "metadata": {
        "id": "BEVxmaLjJQHF"
      },
      "outputs": [],
      "source": [
        ""
      ]
    },
    {
      "cell_type": "code",
      "execution_count": null,
      "metadata": {
        "id": "j629hMU3JQK3"
      },
      "outputs": [],
      "source": [
        ""
      ]
    }
  ],
  "metadata": {
    "accelerator": "GPU",
    "colab": {
      "collapsed_sections": [],
      "machine_shape": "hm",
      "name": "initial_model_head_tokenization_model.ipynb",
      "provenance": [],
      "include_colab_link": true
    },
    "kernelspec": {
      "display_name": "Python 3",
      "name": "python3"
    },
    "language_info": {
      "name": "python"
    }
  },
  "nbformat": 4,
  "nbformat_minor": 0
}
